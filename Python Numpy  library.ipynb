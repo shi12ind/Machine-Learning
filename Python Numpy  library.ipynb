{
 "cells": [
  {
   "cell_type": "markdown",
   "id": "2b2a37eb",
   "metadata": {},
   "source": [
    "# Basic numpy\n",
    "NumPy is a Python library used for working with arrays.\n",
    "\n",
    "It also has functions for working in domain of linear algebra, fourier transform, and matrices.\n",
    "\n",
    "NumPy was created in 2005 by Travis Oliphant. It is an open source project and you can use it freely.\n",
    "\n",
    "NumPy stands for Numerical Python."
   ]
  },
  {
   "cell_type": "code",
   "execution_count": null,
   "id": "8b4b4f00",
   "metadata": {},
   "outputs": [],
   "source": [
    "The elements are all of the same type, referred to as the array dtype\n",
    "The rank of the array is the number of dimensions.\n",
    "The shape of the array is a tuple of integers giving the size of the array along each dimension."
   ]
  },
  {
   "cell_type": "code",
   "execution_count": null,
   "id": "ac66c85d",
   "metadata": {},
   "outputs": [],
   "source": [
    "1D array, 2D array, ndarray, vector, matrix"
   ]
  },
  {
   "cell_type": "code",
   "execution_count": null,
   "id": "1de3d8a3",
   "metadata": {},
   "outputs": [],
   "source": [
    "!pip install numpy"
   ]
  },
  {
   "cell_type": "markdown",
   "id": "b03a23f2",
   "metadata": {},
   "source": [
    "# To create a basic array \n",
    "\n",
    "#np.array(), np.zeros(), np.ones(), np.empty(), np.arange(), np.linspace(), dtype\n",
    "\n"
   ]
  },
  {
   "cell_type": "code",
   "execution_count": null,
   "id": "114c9b7b",
   "metadata": {},
   "outputs": [],
   "source": [
    "# shape and size of the array\n",
    "ndarray.ndim, ndarray.size, ndarray.shape\n",
    "\n",
    "ndarray.ndim will tell you the number of axes, or dimensions, of the array.\n",
    "\n",
    "ndarray.size will tell you the total number of elements of the array. This is the product of the elements of the array’s shape.\n",
    "\n",
    "ndarray.shape will display a tuple of integers that indicate the number of elements stored along each dimension of the array"
   ]
  },
  {
   "cell_type": "code",
   "execution_count": 1,
   "id": "81de0c0d",
   "metadata": {},
   "outputs": [],
   "source": [
    "import numpy as np"
   ]
  },
  {
   "cell_type": "code",
   "execution_count": 2,
   "id": "d07a824c",
   "metadata": {},
   "outputs": [],
   "source": [
    "arr = [10,15,16,17,18,19,18,12,20]"
   ]
  },
  {
   "cell_type": "code",
   "execution_count": 4,
   "id": "04819497",
   "metadata": {},
   "outputs": [
    {
     "name": "stdout",
     "output_type": "stream",
     "text": [
      "[10 15 16 17 18 19 18 12 20]\n",
      "<class 'numpy.ndarray'>\n"
     ]
    }
   ],
   "source": [
    "arr = np.array(arr) \n",
    "print(arr)\n",
    "print(type(arr))"
   ]
  },
  {
   "cell_type": "code",
   "execution_count": 7,
   "id": "7c52bf1b",
   "metadata": {},
   "outputs": [
    {
     "data": {
      "text/plain": [
       "((9,), 1, 9)"
      ]
     },
     "execution_count": 7,
     "metadata": {},
     "output_type": "execute_result"
    }
   ],
   "source": [
    "arr.shape, arr.ndim,arr.size"
   ]
  },
  {
   "cell_type": "code",
   "execution_count": 9,
   "id": "3dc58dce",
   "metadata": {},
   "outputs": [],
   "source": [
    "arr3 = [[10,15,16,17,18,19,18,12,20]]"
   ]
  },
  {
   "cell_type": "code",
   "execution_count": 10,
   "id": "4380083c",
   "metadata": {},
   "outputs": [
    {
     "data": {
      "text/plain": [
       "2"
      ]
     },
     "execution_count": 10,
     "metadata": {},
     "output_type": "execute_result"
    }
   ],
   "source": [
    "arr3 = np.array(arr3)\n",
    "arr3.ndim"
   ]
  },
  {
   "cell_type": "code",
   "execution_count": 12,
   "id": "81063acc",
   "metadata": {},
   "outputs": [
    {
     "data": {
      "text/plain": [
       "(2, 9, (1, 9), array([[10, 15, 16, 17, 18, 19, 18, 12, 20]]), 10, 20)"
      ]
     },
     "execution_count": 12,
     "metadata": {},
     "output_type": "execute_result"
    }
   ],
   "source": [
    "arr3.ndim, arr3.size, arr3.shape, arr3.view(),arr3.min(), arr3.max()"
   ]
  },
  {
   "cell_type": "code",
   "execution_count": 13,
   "id": "624b9728",
   "metadata": {},
   "outputs": [
    {
     "data": {
      "text/plain": [
       "(16.11111111111111, 9.654320987654321, 150009856, 145, 3.1071403231354586)"
      ]
     },
     "execution_count": 13,
     "metadata": {},
     "output_type": "execute_result"
    }
   ],
   "source": [
    "arr.mean(), arr.var(),arr.prod(), arr.sum(),arr.std()"
   ]
  },
  {
   "cell_type": "code",
   "execution_count": null,
   "id": "e4e164e6",
   "metadata": {},
   "outputs": [],
   "source": [
    "any(arr) is int"
   ]
  },
  {
   "cell_type": "code",
   "execution_count": 14,
   "id": "7d9ea4dd",
   "metadata": {},
   "outputs": [],
   "source": [
    "# two dimentional\n",
    "arr1 = [[10,15,3],\n",
    "         [5,6,np.nan],\n",
    "         [7,8,np.nan]]"
   ]
  },
  {
   "cell_type": "code",
   "execution_count": 15,
   "id": "6269dd85",
   "metadata": {},
   "outputs": [],
   "source": [
    "arr1 = np.array(arr1)"
   ]
  },
  {
   "cell_type": "code",
   "execution_count": 17,
   "id": "9a5e740d",
   "metadata": {
    "collapsed": true,
    "jupyter": {
     "outputs_hidden": true
    }
   },
   "outputs": [
    {
     "data": {
      "text/plain": [
       "(3, 3)"
      ]
     },
     "execution_count": 17,
     "metadata": {},
     "output_type": "execute_result"
    }
   ],
   "source": [
    "arr1.ndim,arr1.shape,arr1.size"
   ]
  },
  {
   "cell_type": "code",
   "execution_count": 19,
   "id": "6ec5e650",
   "metadata": {
    "collapsed": true,
    "jupyter": {
     "outputs_hidden": true
    }
   },
   "outputs": [
    {
     "data": {
      "text/plain": [
       "(nan, nan, nan, nan, nan)"
      ]
     },
     "execution_count": 19,
     "metadata": {},
     "output_type": "execute_result"
    }
   ],
   "source": [
    "arr1.mean(), arr1.var(),arr1.prod(), arr1.sum(),arr1.std()"
   ]
  },
  {
   "cell_type": "code",
   "execution_count": 21,
   "id": "9ba5953b",
   "metadata": {
    "collapsed": true,
    "jupyter": {
     "outputs_hidden": true
    }
   },
   "outputs": [
    {
     "data": {
      "text/plain": [
       "(array([7.33333333, 9.66666667,        nan]),\n",
       " array([ 4.22222222, 14.88888889,         nan]),\n",
       " array([350., 720.,  nan]),\n",
       " array([22., 29., nan]),\n",
       " array([2.05480467, 3.8586123 ,        nan]))"
      ]
     },
     "execution_count": 21,
     "metadata": {},
     "output_type": "execute_result"
    }
   ],
   "source": [
    "arr1.mean(axis = 0), arr1.var(axis = 0),arr1.prod(axis = 0), arr1.sum(axis = 0),arr1.std(axis = 0)"
   ]
  },
  {
   "cell_type": "code",
   "execution_count": 22,
   "id": "2a7f929a",
   "metadata": {
    "collapsed": true,
    "jupyter": {
     "outputs_hidden": true
    }
   },
   "outputs": [
    {
     "data": {
      "text/plain": [
       "(array([9.33333333,        nan,        nan]),\n",
       " array([24.22222222,         nan,         nan]),\n",
       " array([450.,  nan,  nan]),\n",
       " array([28., nan, nan]),\n",
       " array([4.92160769,        nan,        nan]))"
      ]
     },
     "execution_count": 22,
     "metadata": {},
     "output_type": "execute_result"
    }
   ],
   "source": [
    "arr1.mean(axis = 1), arr1.var(axis = 1),arr1.prod(axis = 1), arr1.sum(axis = 1),arr1.std(axis = 1)"
   ]
  },
  {
   "cell_type": "code",
   "execution_count": 25,
   "id": "9080a6d6",
   "metadata": {
    "collapsed": true,
    "jupyter": {
     "outputs_hidden": true
    }
   },
   "outputs": [
    {
     "name": "stdout",
     "output_type": "stream",
     "text": [
      "[[[[1 2]]\n",
      "\n",
      "  [[3 4]]\n",
      "\n",
      "  [[6 8]]]]\n"
     ]
    }
   ],
   "source": [
    "# more than one dimensions \n",
    "arr2 = np.array([[[[1, 2]], \n",
    "                 [[3, 4]],\n",
    "                  [[6,8]]]]) \n",
    "print(arr2)"
   ]
  },
  {
   "cell_type": "code",
   "execution_count": 27,
   "id": "77749077",
   "metadata": {
    "collapsed": true,
    "jupyter": {
     "outputs_hidden": true
    }
   },
   "outputs": [
    {
     "data": {
      "text/plain": [
       "(4, (1, 3, 1, 2))"
      ]
     },
     "execution_count": 27,
     "metadata": {},
     "output_type": "execute_result"
    }
   ],
   "source": [
    "arr2.ndim,arr2.shape"
   ]
  },
  {
   "cell_type": "code",
   "execution_count": 28,
   "id": "ec521435",
   "metadata": {},
   "outputs": [],
   "source": [
    "arr2 = np.array([[[[1,0,0]],\n",
    "                 [[0,0,2]],\n",
    "                 [[1,5,6]]]])"
   ]
  },
  {
   "cell_type": "code",
   "execution_count": 29,
   "id": "d37f1682",
   "metadata": {
    "collapsed": true,
    "jupyter": {
     "outputs_hidden": true
    }
   },
   "outputs": [
    {
     "data": {
      "text/plain": [
       "(4, (1, 3, 1, 3))"
      ]
     },
     "execution_count": 29,
     "metadata": {},
     "output_type": "execute_result"
    }
   ],
   "source": [
    "arr2.ndim, arr2.shape"
   ]
  },
  {
   "cell_type": "code",
   "execution_count": null,
   "id": "12b152bd",
   "metadata": {},
   "outputs": [],
   "source": [
    "arr2 = np.array([[[[1,0,0],\n",
    "                   [2,5,3]],\n",
    "                  \n",
    "                  [[0,0,2],\n",
    "                 [2,5,3]],\n",
    "                  \n",
    "                 [[1,5,6],\n",
    "                 [2,5,3]]]])\n",
    "arr2.shape"
   ]
  },
  {
   "cell_type": "code",
   "execution_count": null,
   "id": "f82dde7a",
   "metadata": {},
   "outputs": [],
   "source": [
    "arr3 = np.array([[[[1,2,3,4]],\n",
    "                  [[1,2,3,4]]]])\n",
    "print(arr3.ndim,arr3.shape)"
   ]
  },
  {
   "cell_type": "code",
   "execution_count": 30,
   "id": "a3f4fee6",
   "metadata": {
    "collapsed": true,
    "jupyter": {
     "outputs_hidden": true
    }
   },
   "outputs": [
    {
     "name": "stdout",
     "output_type": "stream",
     "text": [
      "array of zeros\n",
      "[0. 0. 0. 0. 0. 0.]\n",
      "[1. 1. 1. 1. 1.]\n",
      "\n",
      "[nan  0.  0.  0.  0.  0.  0.  0.  0.  0.]\n",
      "\n",
      "[ 1.          1.31034483  1.62068966  1.93103448  2.24137931  2.55172414\n",
      "  2.86206897  3.17241379  3.48275862  3.79310345  4.10344828  4.4137931\n",
      "  4.72413793  5.03448276  5.34482759  5.65517241  5.96551724  6.27586207\n",
      "  6.5862069   6.89655172  7.20689655  7.51724138  7.82758621  8.13793103\n",
      "  8.44827586  8.75862069  9.06896552  9.37931034  9.68965517 10.        ]\n"
     ]
    }
   ],
   "source": [
    "# array of zeros\n",
    "print('array of zeros')\n",
    "print(np.zeros(6))\n",
    "# print()\n",
    "# array of ones\n",
    "print(np.ones(5))\n",
    "print()\n",
    "# array of stdout\n",
    "print(np.empty(10))\n",
    "print()\n",
    "# array of given range and number of values.\n",
    "print(np.linspace(1,10, num=30))"
   ]
  },
  {
   "cell_type": "markdown",
   "id": "111934c9",
   "metadata": {},
   "source": [
    "# np.arange()"
   ]
  },
  {
   "cell_type": "code",
   "execution_count": null,
   "id": "ba96b9df",
   "metadata": {},
   "outputs": [],
   "source": [
    "print(range(10,20))\n",
    "for i in range(10,21):\n",
    "    print(i)"
   ]
  },
  {
   "cell_type": "code",
   "execution_count": 32,
   "id": "17fb4663",
   "metadata": {},
   "outputs": [
    {
     "data": {
      "text/plain": [
       "dtype('int32')"
      ]
     },
     "execution_count": 32,
     "metadata": {},
     "output_type": "execute_result"
    }
   ],
   "source": [
    "d = np.arange(1,21)\n",
    "d.dtype"
   ]
  },
  {
   "cell_type": "code",
   "execution_count": 37,
   "id": "6edb0a7e",
   "metadata": {
    "collapsed": true,
    "jupyter": {
     "outputs_hidden": true
    }
   },
   "outputs": [
    {
     "name": "stdout",
     "output_type": "stream",
     "text": [
      "8\n",
      "float64\n"
     ]
    }
   ],
   "source": [
    "# dtype of array is int8 (1 byte) \n",
    "x = np.array(d,dtype = float)\n",
    "print(x.itemsize)\n",
    "print(x.dtype)"
   ]
  },
  {
   "cell_type": "code",
   "execution_count": null,
   "id": "1ed9e808",
   "metadata": {},
   "outputs": [],
   "source": [
    "# dtype of array is now float32 (4 bytes) \n",
    "x = np.array([1,2,3,4,5,6,9,10,10,12,15,14], dtype = int) \n",
    "print(x.itemsize)"
   ]
  },
  {
   "cell_type": "raw",
   "id": "b2272aac",
   "metadata": {},
   "source": [
    "# adding removing and sorting the elements\n",
    "# np.sort(), np.concatenate()"
   ]
  },
  {
   "cell_type": "code",
   "execution_count": 38,
   "id": "a5ed7ac3",
   "metadata": {
    "collapsed": true,
    "jupyter": {
     "outputs_hidden": true
    }
   },
   "outputs": [
    {
     "data": {
      "text/plain": [
       "array([[1, 2, 3, 4, 5, 6, 7, 8]])"
      ]
     },
     "execution_count": 38,
     "metadata": {},
     "output_type": "execute_result"
    }
   ],
   "source": [
    "arr = np.array([[2, 1, 5, 3, 7, 4, 6, 8]])\n",
    "np.sort(arr,axis = -1)"
   ]
  },
  {
   "cell_type": "code",
   "execution_count": 42,
   "id": "0fc1608d",
   "metadata": {
    "collapsed": true,
    "jupyter": {
     "outputs_hidden": true
    }
   },
   "outputs": [
    {
     "data": {
      "text/plain": [
       "array([[1, 2, 3, 4, 5, 6, 7, 8]])"
      ]
     },
     "execution_count": 42,
     "metadata": {},
     "output_type": "execute_result"
    }
   ],
   "source": [
    "np.sort(arr,axis = 1)"
   ]
  },
  {
   "cell_type": "code",
   "execution_count": 39,
   "id": "4a5db961",
   "metadata": {
    "collapsed": true,
    "jupyter": {
     "outputs_hidden": true
    }
   },
   "outputs": [
    {
     "data": {
      "text/plain": [
       "array([0, 0, 0, 0, 1, 1, 2, 5, 6])"
      ]
     },
     "execution_count": 39,
     "metadata": {},
     "output_type": "execute_result"
    }
   ],
   "source": [
    "np.sort(arr2,axis = None)"
   ]
  },
  {
   "cell_type": "code",
   "execution_count": 43,
   "id": "f859ece8",
   "metadata": {},
   "outputs": [
    {
     "data": {
      "text/plain": [
       "array([1, 2, 3, 4, 5, 6, 7, 8])"
      ]
     },
     "execution_count": 43,
     "metadata": {},
     "output_type": "execute_result"
    }
   ],
   "source": [
    "a = np.array([1, 2, 3, 4])\n",
    "b = np.array([5, 6, 7, 8])\n",
    "np.concatenate([a,b])"
   ]
  },
  {
   "cell_type": "code",
   "execution_count": 44,
   "id": "87cc710e",
   "metadata": {},
   "outputs": [
    {
     "data": {
      "text/plain": [
       "array([1, 2, 3, 4, 5, 6, 7, 8])"
      ]
     },
     "execution_count": 44,
     "metadata": {},
     "output_type": "execute_result"
    }
   ],
   "source": [
    "np.concatenate((a,b), axis=0) # column wise concatination"
   ]
  },
  {
   "cell_type": "code",
   "execution_count": 45,
   "id": "8c634ae4",
   "metadata": {},
   "outputs": [
    {
     "data": {
      "text/plain": [
       "array([[1, 2, 3, 4],\n",
       "       [5, 6, 7, 8]])"
      ]
     },
     "execution_count": 45,
     "metadata": {},
     "output_type": "execute_result"
    }
   ],
   "source": [
    "np.concatenate([[a,b]],axis = 1) # row wise concatination"
   ]
  },
  {
   "cell_type": "markdown",
   "id": "2682bb48",
   "metadata": {},
   "source": [
    "# converting to 1D to 2D array reshape,np.newaxis, np.expand_dims"
   ]
  },
  {
   "cell_type": "code",
   "execution_count": 46,
   "id": "07405a18",
   "metadata": {
    "collapsed": true,
    "jupyter": {
     "outputs_hidden": true
    }
   },
   "outputs": [
    {
     "name": "stdout",
     "output_type": "stream",
     "text": [
      "(1, 1, 2, 3)\n",
      "[[[[1 2 3]\n",
      "   [4 5 6]]]]\n"
     ]
    }
   ],
   "source": [
    "import numpy as np \n",
    "a = np.array([[[[1,2,3],[4,5,6]]]]) \n",
    "print(a.shape)\n",
    "print(a)"
   ]
  },
  {
   "cell_type": "code",
   "execution_count": 48,
   "id": "d3cf4654",
   "metadata": {
    "collapsed": true,
    "jupyter": {
     "outputs_hidden": true
    }
   },
   "outputs": [
    {
     "name": "stdout",
     "output_type": "stream",
     "text": [
      "[1 2 3 4 5 6]\n",
      "1\n"
     ]
    }
   ],
   "source": [
    "b = a.reshape(6,) \n",
    "print(b)\n",
    "print(b.ndim)"
   ]
  },
  {
   "cell_type": "code",
   "execution_count": 49,
   "id": "b68716c3",
   "metadata": {
    "collapsed": true,
    "jupyter": {
     "outputs_hidden": true
    }
   },
   "outputs": [
    {
     "data": {
      "text/plain": [
       "array([[[1, 2, 3, 4, 5, 6]]])"
      ]
     },
     "execution_count": 49,
     "metadata": {},
     "output_type": "execute_result"
    }
   ],
   "source": [
    "a.reshape(1,1,6)"
   ]
  },
  {
   "cell_type": "code",
   "execution_count": 50,
   "id": "7440ee23",
   "metadata": {
    "collapsed": true,
    "jupyter": {
     "outputs_hidden": true
    }
   },
   "outputs": [
    {
     "data": {
      "text/plain": [
       "array([[1, 2],\n",
       "       [3, 4],\n",
       "       [5, 6]])"
      ]
     },
     "execution_count": 50,
     "metadata": {},
     "output_type": "execute_result"
    }
   ],
   "source": [
    "a.reshape(3,2)"
   ]
  },
  {
   "cell_type": "code",
   "execution_count": 59,
   "id": "c1131c5a",
   "metadata": {
    "collapsed": true,
    "jupyter": {
     "outputs_hidden": true
    }
   },
   "outputs": [
    {
     "name": "stdout",
     "output_type": "stream",
     "text": [
      "[ 0  1  2  3  4  5  6  7  8  9 10 11 12 13 14 15 16 17 18 19 20 21 22 23]\n"
     ]
    }
   ],
   "source": [
    "a = np.arange(24) \n",
    "print(a)"
   ]
  },
  {
   "cell_type": "code",
   "execution_count": 60,
   "id": "62ac9636",
   "metadata": {
    "collapsed": true,
    "jupyter": {
     "outputs_hidden": true
    }
   },
   "outputs": [
    {
     "data": {
      "text/plain": [
       "(array([[ 0,  1,  2,  3,  4,  5,  6,  7,  8,  9, 10, 11, 12, 13, 14, 15,\n",
       "         16, 17, 18, 19, 20, 21, 22, 23]]),\n",
       " array([[ 0],\n",
       "        [ 1],\n",
       "        [ 2],\n",
       "        [ 3],\n",
       "        [ 4],\n",
       "        [ 5],\n",
       "        [ 6],\n",
       "        [ 7],\n",
       "        [ 8],\n",
       "        [ 9],\n",
       "        [10],\n",
       "        [11],\n",
       "        [12],\n",
       "        [13],\n",
       "        [14],\n",
       "        [15],\n",
       "        [16],\n",
       "        [17],\n",
       "        [18],\n",
       "        [19],\n",
       "        [20],\n",
       "        [21],\n",
       "        [22],\n",
       "        [23]]),\n",
       " array([[[ 0,  1,  2],\n",
       "         [ 3,  4,  5],\n",
       "         [ 6,  7,  8],\n",
       "         [ 9, 10, 11],\n",
       "         [12, 13, 14],\n",
       "         [15, 16, 17],\n",
       "         [18, 19, 20],\n",
       "         [21, 22, 23]]]))"
      ]
     },
     "execution_count": 60,
     "metadata": {},
     "output_type": "execute_result"
    }
   ],
   "source": [
    "a.reshape(1,24),a.reshape(24,1),a.reshape(1,8,3)"
   ]
  },
  {
   "cell_type": "code",
   "execution_count": 61,
   "id": "bbd2580a",
   "metadata": {
    "collapsed": true,
    "jupyter": {
     "outputs_hidden": true
    }
   },
   "outputs": [
    {
     "data": {
      "text/plain": [
       "array([[[[ 0,  1,  2,  3],\n",
       "         [ 4,  5,  6,  7],\n",
       "         [ 8,  9, 10, 11]],\n",
       "\n",
       "        [[12, 13, 14, 15],\n",
       "         [16, 17, 18, 19],\n",
       "         [20, 21, 22, 23]]]])"
      ]
     },
     "execution_count": 61,
     "metadata": {},
     "output_type": "execute_result"
    }
   ],
   "source": [
    "a.reshape(1,2,3,4)"
   ]
  },
  {
   "cell_type": "code",
   "execution_count": 62,
   "id": "233196a5",
   "metadata": {
    "collapsed": true,
    "jupyter": {
     "outputs_hidden": true
    }
   },
   "outputs": [
    {
     "name": "stdout",
     "output_type": "stream",
     "text": [
      "[[[[ 0  1]\n",
      "   [ 2  3]\n",
      "   [ 4  5]]\n",
      "\n",
      "  [[ 6  7]\n",
      "   [ 8  9]\n",
      "   [10 11]]]\n",
      "\n",
      "\n",
      " [[[12 13]\n",
      "   [14 15]\n",
      "   [16 17]]\n",
      "\n",
      "  [[18 19]\n",
      "   [20 21]\n",
      "   [22 23]]]]\n"
     ]
    },
    {
     "data": {
      "text/plain": [
       "4"
      ]
     },
     "execution_count": 62,
     "metadata": {},
     "output_type": "execute_result"
    }
   ],
   "source": [
    "## now reshape it \n",
    "b = a.reshape(2,2,3,2) \n",
    "print(b)\n",
    "b.ndim\n",
    "# b is having three dimensions"
   ]
  },
  {
   "cell_type": "code",
   "execution_count": 55,
   "id": "c67e45bf",
   "metadata": {
    "collapsed": true,
    "jupyter": {
     "outputs_hidden": true
    }
   },
   "outputs": [
    {
     "name": "stdout",
     "output_type": "stream",
     "text": [
      "[[ 6  7  8  9 10]]\n",
      "2\n"
     ]
    }
   ],
   "source": [
    "a2 = a[np.newaxis,5:10]\n",
    "print(a2)\n",
    "print(a2.ndim)"
   ]
  },
  {
   "cell_type": "code",
   "execution_count": 56,
   "id": "b0226da0",
   "metadata": {
    "collapsed": true,
    "jupyter": {
     "outputs_hidden": true
    }
   },
   "outputs": [
    {
     "name": "stdout",
     "output_type": "stream",
     "text": [
      "[[1]\n",
      " [2]\n",
      " [3]\n",
      " [4]\n",
      " [5]\n",
      " [6]]\n",
      "2\n"
     ]
    }
   ],
   "source": [
    "a3 = a[0:6,np.newaxis]\n",
    "print(a3)\n",
    "print(a3.ndim)"
   ]
  },
  {
   "cell_type": "code",
   "execution_count": 57,
   "id": "999ecbf4",
   "metadata": {
    "collapsed": true,
    "jupyter": {
     "outputs_hidden": true
    }
   },
   "outputs": [
    {
     "name": "stdout",
     "output_type": "stream",
     "text": [
      "(1, 10)\n",
      "2\n",
      "[[ 1  2  3  4  5  6  7  8  9 10]]\n"
     ]
    }
   ],
   "source": [
    "b = np.expand_dims(a, axis=0)\n",
    "print(b.shape)\n",
    "print(b.ndim)\n",
    "print(b)"
   ]
  },
  {
   "cell_type": "code",
   "execution_count": 63,
   "id": "c5f2ab89",
   "metadata": {
    "collapsed": true,
    "jupyter": {
     "outputs_hidden": true
    }
   },
   "outputs": [
    {
     "name": "stdout",
     "output_type": "stream",
     "text": [
      "[[[[[ 0  1]\n",
      "    [ 2  3]\n",
      "    [ 4  5]]\n",
      "\n",
      "   [[ 6  7]\n",
      "    [ 8  9]\n",
      "    [10 11]]]]\n",
      "\n",
      "\n",
      "\n",
      " [[[[12 13]\n",
      "    [14 15]\n",
      "    [16 17]]\n",
      "\n",
      "   [[18 19]\n",
      "    [20 21]\n",
      "    [22 23]]]]]\n",
      "(2, 1, 2, 3, 2)\n",
      "5\n"
     ]
    }
   ],
   "source": [
    "c = np.expand_dims(b, axis=1)\n",
    "print(c)\n",
    "print(c.shape)\n",
    "print(c.ndim)"
   ]
  },
  {
   "cell_type": "markdown",
   "id": "77e19cc5",
   "metadata": {},
   "source": [
    "# Indexing and slicing"
   ]
  },
  {
   "cell_type": "code",
   "execution_count": 64,
   "id": "74df0199",
   "metadata": {
    "collapsed": true,
    "jupyter": {
     "outputs_hidden": true
    }
   },
   "outputs": [
    {
     "name": "stdout",
     "output_type": "stream",
     "text": [
      "2\n",
      "[1 3 6]\n",
      "[ 2  3  5  6  9 10]\n",
      "[ 9 10]\n"
     ]
    }
   ],
   "source": [
    "data = np.array([1, 2, 3,5,6,9,10])\n",
    "print(data[1])\n",
    "print(data[0:5:2])\n",
    "print(data[1:])\n",
    "print(data[-2:])"
   ]
  },
  {
   "cell_type": "code",
   "execution_count": 70,
   "id": "1bcf1e7d",
   "metadata": {
    "collapsed": true,
    "jupyter": {
     "outputs_hidden": true
    }
   },
   "outputs": [
    {
     "data": {
      "text/plain": [
       "array([5, 6, 7, 8, 9])"
      ]
     },
     "execution_count": 70,
     "metadata": {},
     "output_type": "execute_result"
    }
   ],
   "source": [
    "a = np.array([[1 , 2, 3, 4], [5, 6, 7, 8], [9, 10, 11, 12]])\n",
    "a[(a>=5) & (a < 10)]"
   ]
  },
  {
   "cell_type": "code",
   "execution_count": 66,
   "id": "3d41ae5b",
   "metadata": {
    "collapsed": true,
    "jupyter": {
     "outputs_hidden": true
    }
   },
   "outputs": [
    {
     "data": {
      "text/plain": [
       "False"
      ]
     },
     "execution_count": 66,
     "metadata": {},
     "output_type": "execute_result"
    }
   ],
   "source": [
    "15 in a"
   ]
  },
  {
   "cell_type": "code",
   "execution_count": 37,
   "id": "f64218b5",
   "metadata": {},
   "outputs": [],
   "source": [
    "data = np.array([1, 2, 3,5,6,9,10,10,9,6])"
   ]
  },
  {
   "cell_type": "code",
   "execution_count": 75,
   "id": "58e610dd",
   "metadata": {},
   "outputs": [
    {
     "data": {
      "text/plain": [
       "{1, 2, 3, 5, 6, 9, 10}"
      ]
     },
     "execution_count": 75,
     "metadata": {},
     "output_type": "execute_result"
    }
   ],
   "source": [
    "set(data)"
   ]
  },
  {
   "cell_type": "code",
   "execution_count": 73,
   "id": "62aa5211",
   "metadata": {},
   "outputs": [
    {
     "data": {
      "text/plain": [
       "array([0.5, 1. , 1.5, 2.5, 3. , 4.5, 5. ])"
      ]
     },
     "execution_count": 73,
     "metadata": {},
     "output_type": "execute_result"
    }
   ],
   "source": [
    "np.unique(data) /2"
   ]
  },
  {
   "cell_type": "code",
   "execution_count": 78,
   "id": "bc995575",
   "metadata": {},
   "outputs": [
    {
     "data": {
      "text/plain": [
       "True"
      ]
     },
     "execution_count": 78,
     "metadata": {},
     "output_type": "execute_result"
    }
   ],
   "source": [
    "lst = [1 , 2, 3, 4,5, 6, 7, 8]\n",
    "5 in a"
   ]
  },
  {
   "cell_type": "code",
   "execution_count": 79,
   "id": "fa43798b",
   "metadata": {},
   "outputs": [
    {
     "name": "stdout",
     "output_type": "stream",
     "text": [
      "[ 1  3  5  7  9 11]\n"
     ]
    }
   ],
   "source": [
    "divisible_by_2 = a[a%2 != 0]\n",
    "print(divisible_by_2)"
   ]
  },
  {
   "cell_type": "code",
   "execution_count": 80,
   "id": "2d6c438d",
   "metadata": {},
   "outputs": [
    {
     "data": {
      "text/plain": [
       "array([10, 11])"
      ]
     },
     "execution_count": 80,
     "metadata": {},
     "output_type": "execute_result"
    }
   ],
   "source": [
    "a[(a>5) & (a<12) & (a>=10)]"
   ]
  },
  {
   "cell_type": "code",
   "execution_count": 81,
   "id": "8cc6a9ae",
   "metadata": {},
   "outputs": [
    {
     "data": {
      "text/plain": [
       "array([ 6,  7,  8,  9, 10, 11])"
      ]
     },
     "execution_count": 81,
     "metadata": {},
     "output_type": "execute_result"
    }
   ],
   "source": [
    "a[np.logical_and((a>5),(a<12))]"
   ]
  },
  {
   "cell_type": "code",
   "execution_count": 82,
   "id": "742addd7",
   "metadata": {},
   "outputs": [
    {
     "data": {
      "text/plain": [
       "array([ 1,  2,  3,  4,  5,  6,  7,  8,  9, 10, 11, 12])"
      ]
     },
     "execution_count": 82,
     "metadata": {},
     "output_type": "execute_result"
    }
   ],
   "source": [
    "a[np.logical_or((a>5),(a<12),(a!=10))]"
   ]
  },
  {
   "cell_type": "code",
   "execution_count": 32,
   "id": "dce54608",
   "metadata": {},
   "outputs": [
    {
     "name": "stdout",
     "output_type": "stream",
     "text": [
      "[6 7]\n"
     ]
    }
   ],
   "source": [
    "c = a[(a > 5) & (a < 8)]\n",
    "print(c)"
   ]
  },
  {
   "cell_type": "code",
   "execution_count": 33,
   "id": "b796e889",
   "metadata": {},
   "outputs": [
    {
     "name": "stdout",
     "output_type": "stream",
     "text": [
      "[1 2 3 4]\n"
     ]
    }
   ],
   "source": [
    "five_up = (a <= 5) & (a != 5)\n",
    "print(a[five_up])"
   ]
  },
  {
   "cell_type": "code",
   "execution_count": null,
   "id": "a0f3b4de",
   "metadata": {},
   "outputs": [],
   "source": [
    "a"
   ]
  },
  {
   "cell_type": "code",
   "execution_count": null,
   "id": "4670779e",
   "metadata": {},
   "outputs": [],
   "source": [
    "a[2],a[1]"
   ]
  },
  {
   "cell_type": "code",
   "execution_count": null,
   "id": "8d5c6a51",
   "metadata": {},
   "outputs": [],
   "source": [
    "list_of_coordinates= zip(a[2], a[1])\n",
    "for coord in list_of_coordinates:\n",
    "    print(coord)"
   ]
  },
  {
   "cell_type": "code",
   "execution_count": null,
   "id": "18362604",
   "metadata": {},
   "outputs": [],
   "source": [
    "list_of_coordinates"
   ]
  },
  {
   "cell_type": "code",
   "execution_count": 35,
   "id": "1233c257",
   "metadata": {},
   "outputs": [
    {
     "data": {
      "text/plain": [
       "array([[0., 0., 0., 0., 0., 0.],\n",
       "       [0., 0., 0., 0., 0., 0.],\n",
       "       [0., 0., 0., 0., 0., 0.],\n",
       "       [0., 0., 0., 0., 0., 0.],\n",
       "       [0., 0., 0., 0., 0., 0.]])"
      ]
     },
     "execution_count": 35,
     "metadata": {},
     "output_type": "execute_result"
    }
   ],
   "source": [
    "a = np.zeros([5,6])\n",
    "a"
   ]
  },
  {
   "cell_type": "code",
   "execution_count": 39,
   "id": "465e9d6e",
   "metadata": {},
   "outputs": [
    {
     "name": "stdout",
     "output_type": "stream",
     "text": [
      "(array([0, 0, 0, 0, 0, 0, 0, 0, 0, 0], dtype=int64), array([0, 1, 2, 3, 4, 5, 6, 7, 8, 9], dtype=int64))\n"
     ]
    }
   ],
   "source": [
    "not_there = np.nonzero([data])\n",
    "print(not_there)"
   ]
  },
  {
   "cell_type": "markdown",
   "id": "2a382d16",
   "metadata": {},
   "source": [
    "# # Element-wise Operation\tOperator\tFunction\n",
    "Addition\t+\tadd()\n",
    "Subtraction\t-\tsubtract()\n",
    "Multiplication\t*\tmultiply()\n",
    "Division\t/\tdivide()\n",
    "Exponentiation\t**\tpower()\n",
    "Modulus\t%\tmod()"
   ]
  },
  {
   "cell_type": "code",
   "execution_count": 40,
   "id": "1e3b3118",
   "metadata": {},
   "outputs": [
    {
     "name": "stdout",
     "output_type": "stream",
     "text": [
      "[ 3  7 11 15]\n",
      "[ 3  7 11 15]\n"
     ]
    }
   ],
   "source": [
    "import numpy as np\n",
    "\n",
    "first_array = np.array([1, 3, 5, 7])\n",
    "second_array = np.array([2, 4, 6, 8])\n",
    "\n",
    "# using the + operator\n",
    "result1 = first_array + second_array\n",
    "print(result1)\n",
    "\n",
    "# using the add() function\n",
    "result2 = np.add(first_array, second_array)\n",
    "print(result2)\n"
   ]
  },
  {
   "cell_type": "code",
   "execution_count": 41,
   "id": "30c65789",
   "metadata": {},
   "outputs": [
    {
     "name": "stdout",
     "output_type": "stream",
     "text": [
      "Using the - operator: [-1 -1 -1 -1]\n",
      "Using the subtract() function: [-1 -1 -1 -1]\n"
     ]
    }
   ],
   "source": [
    " #using the - operator\n",
    "result1 = first_array - second_array\n",
    "print(\"Using the - operator:\",result1) \n",
    "\n",
    "# using the subtract() function\n",
    "result2 = np.subtract(first_array, second_array)\n",
    "print(\"Using the subtract() function:\",result2) "
   ]
  },
  {
   "cell_type": "code",
   "execution_count": 42,
   "id": "58f6862d",
   "metadata": {},
   "outputs": [
    {
     "name": "stdout",
     "output_type": "stream",
     "text": [
      "Using the * operator: [ 2 12 30 56]\n",
      "Using the multiply() function: [ 2 12 30 56]\n"
     ]
    }
   ],
   "source": [
    "# using the * operator\n",
    "result1 = first_array * second_array\n",
    "print(\"Using the * operator:\",result1) \n",
    "\n",
    "# using the multiply() function\n",
    "result2 = np.multiply(first_array, second_array)\n",
    "print(\"Using the multiply() function:\",result2) "
   ]
  },
  {
   "cell_type": "code",
   "execution_count": 43,
   "id": "5c98925a",
   "metadata": {},
   "outputs": [
    {
     "name": "stdout",
     "output_type": "stream",
     "text": [
      "Using the / operator: [0.5        0.75       0.83333333 0.875     ]\n",
      "Using the divide() function: [0.5        0.75       0.83333333 0.875     ]\n"
     ]
    }
   ],
   "source": [
    "# using the / operator\n",
    "result1 = first_array / second_array\n",
    "print(\"Using the / operator:\",result1) \n",
    "\n",
    "# using the divide() function\n",
    "result2 = np.divide(first_array, second_array)\n",
    "print(\"Using the divide() function:\",result2) "
   ]
  },
  {
   "cell_type": "code",
   "execution_count": 44,
   "id": "2de06f25",
   "metadata": {},
   "outputs": [
    {
     "name": "stdout",
     "output_type": "stream",
     "text": [
      "Using the ** operator: [ 1  9 25 49]\n",
      "Using the power() function: [  1  27 125 343]\n"
     ]
    }
   ],
   "source": [
    "# using the ** operator\n",
    "array1 = np.array([1, 3, 5, 7])\n",
    "result1 = array1 ** 2\n",
    "print(\"Using the ** operator:\",result1) \n",
    "\n",
    "# using the power() function\n",
    "result2 = np.power(array1, 3)\n",
    "print(\"Using the power() function:\",result2) "
   ]
  },
  {
   "cell_type": "code",
   "execution_count": 45,
   "id": "110cf0ee",
   "metadata": {},
   "outputs": [
    {
     "name": "stdout",
     "output_type": "stream",
     "text": [
      "Using the % operator: [1 3 5 7]\n",
      "Using the mod() function: [1 3 5 7]\n"
     ]
    }
   ],
   "source": [
    "# using the % operator\n",
    "result1 = first_array % second_array\n",
    "print(\"Using the % operator:\",result1) \n",
    "\n",
    "# using the mod() function\n",
    "result2 = np.mod(first_array, second_array)\n",
    "print(\"Using the mod() function:\",result2)"
   ]
  },
  {
   "cell_type": "code",
   "execution_count": 46,
   "id": "ecceef3b",
   "metadata": {
    "collapsed": true,
    "jupyter": {
     "outputs_hidden": true
    }
   },
   "outputs": [
    {
     "name": "stdout",
     "output_type": "stream",
     "text": [
      "[[1 3 5 7]\n",
      " [5 4 8 9]]\n",
      "np.transpose\n",
      "[[1 5]\n",
      " [3 4]\n",
      " [5 8]\n",
      " [7 9]]\n",
      "array.transpose()\n",
      "[[1 5]\n",
      " [3 4]\n",
      " [5 8]\n",
      " [7 9]]\n",
      "array.T\n",
      "[[1 5]\n",
      " [3 4]\n",
      " [5 8]\n",
      " [7 9]]\n"
     ]
    }
   ],
   "source": [
    "import numpy as np\n",
    "first_array = np.array([[1, 3, 5, 7],\n",
    "                        [5,4,8,9]])\n",
    "print(first_array)\n",
    "\n",
    "print('np.transpose')\n",
    "print(np.transpose(first_array))\n",
    "\n",
    "print('array.transpose()')\n",
    "print(first_array.transpose())\n",
    "\n",
    "print('array.T')\n",
    "print(first_array.T)"
   ]
  },
  {
   "cell_type": "code",
   "execution_count": null,
   "id": "bc5e18a1",
   "metadata": {},
   "outputs": [],
   "source": [
    "Array Operations------>Functions\n",
    "Array Creation Functions------>np.array(), np.zeros(), np.ones(), np.empty(), np.nonzeros()etc.\n",
    "Array Manipulation Functions------>np.reshape(), np.transpose(), etc.\n",
    "Array Mathematical Functions------>np.add(), np.subtract(), np.sqrt(), np.power(), etc.\n",
    "Array Statistical Functions------>np.median(), np.mean(), np.std(), and np.var().\n",
    "Array Input and Output Functions------>np.save(), np.load(), np.loadtxt(), etc."
   ]
  },
  {
   "cell_type": "code",
   "execution_count": null,
   "id": "468b0600",
   "metadata": {},
   "outputs": [],
   "source": [
    "\n",
    "Operators\tDescriptions\n",
    "< (less than)\treturns True if element of the first array is less than the second one\n",
    "<= (less than or equal to)\treturns True if element of the first array is less than or equal to the second one\n",
    "> (greater than)\treturns True if element of the first array is greater than the second one\n",
    ">= (greater than or equal to)\treturns True if element of the first array is greater than or equal to the second one\n",
    "== (equal to)\treturns True if the element of the first array is equal to the second one\n",
    "!= (not equal to)\treturns True if the element of the first array is not equal to the second one\n",
    "\n",
    "Functions\tDescriptions\n",
    "less()\treturns element-wise True if the first value is less than the second\n",
    "less_equal()\treturns element-wise True if the first value is less than or equal to second\n",
    "greater()\treturns element-wise True if the first value is greater then second\n",
    "greater_equal()\treturns element-wise True if the first value is greater than or equal to second\n",
    "equal()\treturns element-wise True if two values are equal\n",
    "not_equal()\treturns element-wise True if two values are not equal"
   ]
  },
  {
   "cell_type": "code",
   "execution_count": null,
   "id": "ef0b35a3",
   "metadata": {},
   "outputs": [],
   "source": [
    "Logical Operators\tDescriptions\n",
    "logical_and\tComputes the element-wise truth value of x1 AND x2 &\n",
    "logical_or\tComputes the element-wise truth value of x1 OR x2 |\n",
    "logical_not\tComputes the element-wise truth value of NOT x !="
   ]
  },
  {
   "cell_type": "code",
   "execution_count": null,
   "id": "927fea79",
   "metadata": {},
   "outputs": [],
   "source": [
    "import numpy as np\n",
    "\n",
    "x1 = np.array([True, False, True])\n",
    "x2 = np.array([False, False, True])\n",
    "\n",
    "# Logical AND\n",
    "print(np.logical_and(x1, x2)) # Output: [False False  True]\n",
    "\n",
    "# Logical OR\n",
    "print(np.logical_or(x1, x2)) # Output: [ True False  True]\n",
    "\n",
    "# Logical NOT\n",
    "print(np.logical_not(x1)) # Output: [False  True False]"
   ]
  },
  {
   "cell_type": "code",
   "execution_count": null,
   "id": "1565fe9c",
   "metadata": {},
   "outputs": [],
   "source": [
    "Trigonometric Function\tComputes (in radians)\n",
    "sin()\tthe sine of an angle\n",
    "cos()\tcosine of an angle\n",
    "tan()\ttangent of an angle\n",
    "arcsin()\tthe inverse sine\n",
    "arccos()\tthe inverse cosine\n",
    "arctan()\tthe inverse tangent\n",
    "degrees()\tconverts an angle in radians to degrees\n",
    "radians()\tconverts an angle in degrees to radians"
   ]
  },
  {
   "cell_type": "code",
   "execution_count": 49,
   "id": "d24889e1",
   "metadata": {},
   "outputs": [
    {
     "name": "stdout",
     "output_type": "stream",
     "text": [
      "Initial angle in radian: 2\n",
      "Angle in degrees: 114.59155902616465\n",
      "Angle in radians (after conversion): 2.0\n"
     ]
    }
   ],
   "source": [
    "import numpy as np\n",
    "# define an angle in radians\n",
    "angle =  2\n",
    "print(\"Initial angle in radian:\", angle)\n",
    "\n",
    "# convert the angle to degrees\n",
    "angle_degree = np.degrees(angle)\n",
    "print(\"Angle in degrees:\", angle_degree)\n",
    "\n",
    "# convert the angle back to radians\n",
    "angle_radian = np.radians(angle_degree)\n",
    "print(\"Angle in radians (after conversion):\", angle_radian)"
   ]
  },
  {
   "cell_type": "code",
   "execution_count": 48,
   "id": "9ee962cf",
   "metadata": {
    "collapsed": true,
    "jupyter": {
     "outputs_hidden": true
    }
   },
   "outputs": [
    {
     "name": "stdout",
     "output_type": "stream",
     "text": [
      "Angles: [0.  1.  0.9]\n",
      "Sine values: [0.         0.84147098 0.78332691]\n",
      "Inverse Sine values: [0.         1.57079633 1.11976951]\n"
     ]
    }
   ],
   "source": [
    "import numpy as np\n",
    "# array of angles in radians\n",
    "angles = np.array([0, 1, 0.9])\n",
    "print(\"Angles:\", angles)\n",
    "\n",
    "# compute the sine of the angles: sine = opp/hyp, cos = adj / hyp, tan = opp/adj\n",
    "sine_values = np.sin(angles)\n",
    "print(\"Sine values:\", sine_values)\n",
    "\n",
    "# compute the inverse sine of the angles\n",
    "inverse_sine = np.arcsin(angles)\n",
    "print(\"Inverse Sine values:\", inverse_sine)"
   ]
  },
  {
   "cell_type": "code",
   "execution_count": 50,
   "id": "e283dffe",
   "metadata": {},
   "outputs": [],
   "source": [
    "array = np.array([[10,20,30,40,50],\n",
    "                  [15,18,19,17,20],\n",
    "                  [12,17,18,19,16]])"
   ]
  },
  {
   "cell_type": "code",
   "execution_count": 51,
   "id": "41d9a40a",
   "metadata": {},
   "outputs": [
    {
     "data": {
      "text/plain": [
       "array([30. , 17.8, 16.4])"
      ]
     },
     "execution_count": 51,
     "metadata": {},
     "output_type": "execute_result"
    }
   ],
   "source": [
    "# rows wise mean calculation\n",
    "array.mean(axis = 1)"
   ]
  },
  {
   "cell_type": "code",
   "execution_count": 52,
   "id": "a5380c1b",
   "metadata": {},
   "outputs": [
    {
     "data": {
      "text/plain": [
       "array([12.33333333, 18.33333333, 22.33333333, 25.33333333, 28.66666667])"
      ]
     },
     "execution_count": 52,
     "metadata": {},
     "output_type": "execute_result"
    }
   ],
   "source": [
    "# column wise mean calculation\n",
    "array.mean(axis = 0)"
   ]
  },
  {
   "cell_type": "code",
   "execution_count": 56,
   "id": "7a4c8fb1",
   "metadata": {},
   "outputs": [
    {
     "name": "stdout",
     "output_type": "stream",
     "text": [
      "Mean: [30.  17.8 16.4]\n",
      "Median: [30. 18. 17.]\n",
      "Minimum marks: [10 15 12]\n",
      "Maximum marks: [50 20 19]\n",
      "Q1: [20. 17. 16.]\n",
      "Q2: [30. 18. 17.]\n",
      "Q3; [40. 19. 18.]\n",
      "P3: [40. 19. 18.]\n"
     ]
    }
   ],
   "source": [
    "import numpy as np\n",
    "# create a numpy array\n",
    "array = np.array([[10,20,30,40,50],\n",
    "                  [15,18,19,17,20],\n",
    "                  [12,17,18,19,16]])\n",
    "\n",
    "# compute the mean of marks\n",
    "mean_marks = np.mean(array,axis = 1)\n",
    "print(\"Mean:\",mean_marks)\n",
    "\n",
    "# compute the median of marks\n",
    "median_marks = np.median(array,axis = 1)\n",
    "print(\"Median:\",median_marks)\n",
    "\n",
    "# find the minimum and maximum marks\n",
    "min_marks = np.min(array,axis = 1)\n",
    "print(\"Minimum marks:\", min_marks)\n",
    "\n",
    "max_marks = np.max(array,axis = 1)\n",
    "print(\"Maximum marks:\", max_marks)\n",
    "\n",
    "Q1_marks = np.quantile(array,0.25,axis = 1)\n",
    "print('Q1:',Q1_marks)\n",
    "\n",
    "Q2_marks = np.quantile(array,0.50,axis = 1)\n",
    "print('Q2:',Q2_marks)\n",
    "\n",
    "Q3_marks = np.quantile(array,0.75,axis = 1)\n",
    "print('Q3;',Q3_marks)\n",
    "\n",
    "P3_marks = np.percentile(array,75,axis = 1)\n",
    "print('P3:',P3_marks)"
   ]
  },
  {
   "cell_type": "code",
   "execution_count": null,
   "id": "6ca18235",
   "metadata": {},
   "outputs": [],
   "source": [
    "Q1 = np.quantile('salary',0.25)\n",
    "Q3 = np.quantile('salary',0.75)\n",
    "IQR = (Q3 - Q1) /2\n",
    "rangeIQR = (Q3 +- 1.5*IQR)"
   ]
  },
  {
   "cell_type": "code",
   "execution_count": null,
   "id": "2bc029b3",
   "metadata": {},
   "outputs": [],
   "source": [
    "print(np.exp(1))\n",
    "print(np.pi)"
   ]
  },
  {
   "cell_type": "code",
   "execution_count": null,
   "id": "13f7078d",
   "metadata": {},
   "outputs": [],
   "source": [
    "Rounding Functions\tFunctions\n",
    "round()\treturns the value rounded to the desired precision\n",
    "floor()\treturns the values of array down to the nearest integer that is less than each element\n",
    "ceil()\treturns the values of array up to the nearest integer that is greater than each element."
   ]
  },
  {
   "cell_type": "code",
   "execution_count": 57,
   "id": "85295855",
   "metadata": {},
   "outputs": [
    {
     "name": "stdout",
     "output_type": "stream",
     "text": [
      "[1.2 2.3 3.5 4.6]\n"
     ]
    }
   ],
   "source": [
    "import numpy as np\n",
    "numbers = np.array([1.23456, 2.34567, 3.45678, 4.56789])\n",
    "# round the array to two decimal places\n",
    "rounded_array = np.round(numbers,1)\n",
    "print(rounded_array)"
   ]
  },
  {
   "cell_type": "code",
   "execution_count": 58,
   "id": "1f44e9e5",
   "metadata": {},
   "outputs": [
    {
     "name": "stdout",
     "output_type": "stream",
     "text": [
      "Array after floor(): [1. 2. 3. 4.]\n",
      "Array after ceil(): [2. 3. 4. 5.]\n"
     ]
    }
   ],
   "source": [
    "array1 = np.array([1.23456, 2.34567, 3.45678, 4.56789])\n",
    "print(\"Array after floor():\", np.floor(array1))\n",
    "print(\"Array after ceil():\", np.ceil(array1))"
   ]
  },
  {
   "cell_type": "code",
   "execution_count": null,
   "id": "09248258",
   "metadata": {},
   "outputs": [],
   "source": [
    "Numpy Constants\n",
    "In Numpy, the most commonly used constants are pi and e"
   ]
  },
  {
   "cell_type": "code",
   "execution_count": 59,
   "id": "1287a212",
   "metadata": {
    "collapsed": true,
    "jupyter": {
     "outputs_hidden": true
    }
   },
   "outputs": [
    {
     "name": "stdout",
     "output_type": "stream",
     "text": [
      "12.566370614359172\n",
      "2.718281828459045\n",
      "3.141592653589793\n"
     ]
    }
   ],
   "source": [
    "import numpy as np\n",
    "radius = 2\n",
    "circumference = 2 * np.pi * radius\n",
    "print(circumference)\n",
    "\n",
    "y = np.e\n",
    "print(y)\n",
    "print(np.pi)"
   ]
  },
  {
   "cell_type": "code",
   "execution_count": 63,
   "id": "9108f455",
   "metadata": {},
   "outputs": [
    {
     "data": {
      "text/plain": [
       "0.36791758646063283"
      ]
     },
     "execution_count": 63,
     "metadata": {},
     "output_type": "execute_result"
    }
   ],
   "source": [
    "1/2.718"
   ]
  },
  {
   "cell_type": "code",
   "execution_count": 62,
   "id": "37f5d8f1",
   "metadata": {},
   "outputs": [
    {
     "name": "stdout",
     "output_type": "stream",
     "text": [
      "0.36787944117144233\n"
     ]
    }
   ],
   "source": [
    "y = np.exp(-1)\n",
    "print(y)"
   ]
  },
  {
   "cell_type": "code",
   "execution_count": null,
   "id": "e4afeef2",
   "metadata": {},
   "outputs": [],
   "source": [
    "String function\n",
    "Functions\tDescriptions\n",
    "add()\tconcatenates two strings\n",
    "multiply()\trepeats a string for a specified number of times\n",
    "capitalize()\tcapitalizes the first letter of a string\n",
    "lower()\tconverts all uppercase characters in a string to lowercase\n",
    "upper()\tconverts all lowercase characters in a string to uppercase\n",
    "joins()\tjoins a sequence of strings\n",
    "equalin(()\tchecks if two strings are equal or not"
   ]
  },
  {
   "cell_type": "code",
   "execution_count": 64,
   "id": "aa6380cd",
   "metadata": {},
   "outputs": [
    {
     "name": "stdout",
     "output_type": "stream",
     "text": [
      "['iPhone: 15' 'price: $900']\n"
     ]
    }
   ],
   "source": [
    "array1 = np.array(['iPhone: ', 'price: '])\n",
    "array2 = np.array(['15', '$900'])\n",
    "# perform element-wise array string concatenation\n",
    "result = np.char.add(array1, array2)\n",
    "print(result)"
   ]
  },
  {
   "cell_type": "code",
   "execution_count": 65,
   "id": "4d890ede",
   "metadata": {},
   "outputs": [
    {
     "name": "stdout",
     "output_type": "stream",
     "text": [
      "['AAA' 'BBB' 'CCC']\n"
     ]
    }
   ],
   "source": [
    "# define array with three string elements\n",
    "array1 = np.array(['A', 'B', 'C']) \n",
    "#  repeat each element in array1 two times \n",
    "result = np.char.multiply(array1, 3)  \n",
    "print(result)  "
   ]
  },
  {
   "cell_type": "code",
   "execution_count": 66,
   "id": "975d3c79",
   "metadata": {
    "collapsed": true,
    "jupyter": {
     "outputs_hidden": true
    }
   },
   "outputs": [
    {
     "name": "stdout",
     "output_type": "stream",
     "text": [
      "['Eric' 'Paul' 'Sean']\n"
     ]
    }
   ],
   "source": [
    "# define an array with three string elements\n",
    "array1 = np.array(['eric', 'paul', 'sean'])  \n",
    "# capitalize the first letter of each string in array1 \n",
    "result = np.char.capitalize(array1)  \n",
    "print(result)"
   ]
  },
  {
   "cell_type": "code",
   "execution_count": 67,
   "id": "d596e1ea",
   "metadata": {},
   "outputs": [
    {
     "name": "stdout",
     "output_type": "stream",
     "text": [
      "To Uppercase:  ['NEPALI' 'AMERICAN' 'CANADIAN']\n",
      "To Lowercase:  ['nepali' 'american' 'canadian']\n"
     ]
    }
   ],
   "source": [
    "array1 = np.array(['nEpalI', 'AmeriCAN', 'CaNadIan'])\n",
    "# convert all string elements to uppercase\n",
    "result1 = np.char.upper(array1)\n",
    "# convert all string elements to lowercase\n",
    "result2 = np.char.lower(array1)\n",
    "print(\"To Uppercase: \",result1)\n",
    "print(\"To Lowercase: \",result2)"
   ]
  },
  {
   "cell_type": "code",
   "execution_count": 68,
   "id": "cba0da69",
   "metadata": {},
   "outputs": [
    {
     "name": "stdout",
     "output_type": "stream",
     "text": [
      "['h*e*l*l*o' 'w*o*r*l*d']\n"
     ]
    }
   ],
   "source": [
    "import numpy as np\n",
    "# create an array of strings\n",
    "array1 = np.array(['hello', 'world'])\n",
    "# join the strings in the array using a dash as the delimiter\n",
    "result = np.char.join('*', array1)\n",
    "print(result)"
   ]
  },
  {
   "cell_type": "code",
   "execution_count": 88,
   "id": "fd40179d",
   "metadata": {},
   "outputs": [
    {
     "name": "stdout",
     "output_type": "stream",
     "text": [
      "[ True False False]\n"
     ]
    }
   ],
   "source": [
    "import numpy as np\n",
    "# create two arrays of strings\n",
    "array1 = np.array(['C', 'Python', 'Swift'])\n",
    "array2 = np.array(['C', 'python', 'Java'])\n",
    "# check if each element of the arrays is equal\n",
    "result = np.char.equal(array1, array2)\n",
    "print(result)"
   ]
  },
  {
   "cell_type": "code",
   "execution_count": 84,
   "id": "d091956a",
   "metadata": {},
   "outputs": [
    {
     "name": "stdout",
     "output_type": "stream",
     "text": [
      "[6 7 8]\n"
     ]
    }
   ],
   "source": [
    "import numpy as np\n",
    "\n",
    "# 1-D array\n",
    "array1 = np.array([1, 2, 3])\n",
    "\n",
    "# scalar\n",
    "number = 5\n",
    "\n",
    "# add scalar and 1-D array\n",
    "sum = array1 + number\n",
    "\n",
    "print(sum)"
   ]
  },
  {
   "cell_type": "code",
   "execution_count": null,
   "id": "9d70dbec",
   "metadata": {},
   "outputs": [],
   "source": [
    "# transformation and file opeartion"
   ]
  },
  {
   "cell_type": "code",
   "execution_count": 94,
   "id": "0fd96fb5",
   "metadata": {},
   "outputs": [],
   "source": [
    "import pandas as pd\n",
    "import numpy as np\n",
    "df = pd.read_csv('/Users/pravinshinde/Downloads/Salaries.csv')\n",
    "df2 = df[['salary','phd']].values # values are used to convert the array "
   ]
  },
  {
   "cell_type": "code",
   "execution_count": 96,
   "id": "a1fea8cb",
   "metadata": {
    "scrolled": true
   },
   "outputs": [
    {
     "data": {
      "text/plain": [
       "array([[ 57800,     51],\n",
       "       [ 62884,     25],\n",
       "       [ 63100,      7],\n",
       "       [ 71065,     12],\n",
       "       [ 72500,      2],\n",
       "       [ 72500,      3],\n",
       "       [ 73000,      4],\n",
       "       [ 73300,     26],\n",
       "       [ 73500,      5],\n",
       "       [ 74692,     11],\n",
       "       [ 74830,     13],\n",
       "       [ 75044,      8],\n",
       "       [ 77000,      5],\n",
       "       [ 77500,     10],\n",
       "       [ 77500,      4],\n",
       "       [ 78500,      8],\n",
       "       [ 80225,      4],\n",
       "       [ 81285,     20],\n",
       "       [ 85000,      2],\n",
       "       [ 88000,      1],\n",
       "       [ 90450,     17],\n",
       "       [ 91000,      4],\n",
       "       [ 91000,     29],\n",
       "       [ 91100,     30],\n",
       "       [ 91300,      7],\n",
       "       [ 92000,      4],\n",
       "       [ 92000,      4],\n",
       "       [ 92000,      3],\n",
       "       [ 93000,     12],\n",
       "       [ 94350,     29],\n",
       "       [ 97032,     10],\n",
       "       [ 99418,     35],\n",
       "       [102000,     20],\n",
       "       [103106,     33],\n",
       "       [103275,     27],\n",
       "       [103613,     11],\n",
       "       [103750,     13],\n",
       "       [103994,     12],\n",
       "       [104542,     19],\n",
       "       [104800,     20],\n",
       "       [105000,     12],\n",
       "       [105450,     18],\n",
       "       [107008,      9],\n",
       "       [107300,     19],\n",
       "       [109646,     23],\n",
       "       [109650,     14],\n",
       "       [109954,     28],\n",
       "       [110515,     23],\n",
       "       [111512,     17],\n",
       "       [116450,     28],\n",
       "       [117555,     36],\n",
       "       [119800,     12],\n",
       "       [120000,     18],\n",
       "       [122400,     20],\n",
       "       [122960,     17],\n",
       "       [123683,     21],\n",
       "       [124312,     17],\n",
       "       [126300,     18],\n",
       "       [126933,     28],\n",
       "       [127512,     20],\n",
       "       [128250,     39],\n",
       "       [129000,     18],\n",
       "       [131205,     40],\n",
       "       [134778,     23],\n",
       "       [137000,     39],\n",
       "       [140096,     25],\n",
       "       [144651,     36],\n",
       "       [146856,     45],\n",
       "       [148750,     38],\n",
       "       [150480,     17],\n",
       "       [150500,     29],\n",
       "       [151768,     23],\n",
       "       [153750,     25],\n",
       "       [155750,     22],\n",
       "       [155865,     45],\n",
       "       [161101,     24],\n",
       "       [162200,     35],\n",
       "       [186960,     56]])"
      ]
     },
     "execution_count": 96,
     "metadata": {},
     "output_type": "execute_result"
    }
   ],
   "source": [
    "df2"
   ]
  },
  {
   "cell_type": "code",
   "execution_count": 98,
   "id": "3ced57fc",
   "metadata": {
    "scrolled": true
   },
   "outputs": [
    {
     "data": {
      "text/plain": [
       "array([[10.96474405,  3.93182563],\n",
       "       [11.04904704,  3.21887582],\n",
       "       [11.05247605,  1.94591015],\n",
       "       [11.17135023,  2.48490665],\n",
       "       [11.19134184,  0.69314718],\n",
       "       [11.19134184,  1.09861229],\n",
       "       [11.19821472,  1.38629436],\n",
       "       [11.20231589,  3.25809654],\n",
       "       [11.20504069,  1.60943791],\n",
       "       [11.22112827,  2.39789527],\n",
       "       [11.22297415,  2.56494936],\n",
       "       [11.22582989,  2.07944154],\n",
       "       [11.2515607 ,  1.60943791],\n",
       "       [11.25803322,  2.30258509],\n",
       "       [11.25803322,  1.38629436],\n",
       "       [11.2708539 ,  2.07944154],\n",
       "       [11.29259047,  1.38629436],\n",
       "       [11.30571678,  2.99573227],\n",
       "       [11.35040654,  0.69314718],\n",
       "       [11.38509209,  0.        ],\n",
       "       [11.41255249,  2.83321334],\n",
       "       [11.41861479,  1.38629436],\n",
       "       [11.41861479,  3.36729583],\n",
       "       [11.41971308,  3.40119738],\n",
       "       [11.42190607,  1.94591015],\n",
       "       [11.42954386,  1.38629436],\n",
       "       [11.42954386,  1.38629436],\n",
       "       [11.42954386,  1.09861229],\n",
       "       [11.44035477,  2.48490665],\n",
       "       [11.45476655,  3.36729583],\n",
       "       [11.4827961 ,  2.30258509],\n",
       "       [11.50708846,  3.55534806],\n",
       "       [11.53272809,  2.99573227],\n",
       "       [11.54351286,  3.49650756],\n",
       "       [11.54515061,  3.29583687],\n",
       "       [11.54841808,  2.39789527],\n",
       "       [11.54973944,  2.56494936],\n",
       "       [11.55208848,  2.48490665],\n",
       "       [11.55734418,  2.94443898],\n",
       "       [11.55980905,  2.99573227],\n",
       "       [11.56171563,  2.48490665],\n",
       "       [11.56599219,  2.89037176],\n",
       "       [11.58065888,  2.19722458],\n",
       "       [11.58338393,  2.94443898],\n",
       "       [11.60501227,  3.13549422],\n",
       "       [11.60504875,  2.63905733],\n",
       "       [11.60781738,  3.33220451],\n",
       "       [11.61290654,  3.13549422],\n",
       "       [11.62188749,  2.83321334],\n",
       "       [11.66521728,  3.33220451],\n",
       "       [11.67466159,  3.58351894],\n",
       "       [11.69357896,  2.48490665],\n",
       "       [11.69524702,  2.89037176],\n",
       "       [11.71504965,  2.99573227],\n",
       "       [11.71961438,  2.83321334],\n",
       "       [11.72547712,  3.04452244],\n",
       "       [11.73054981,  2.83321334],\n",
       "       [11.74641531,  2.89037176],\n",
       "       [11.75141467,  3.33220451],\n",
       "       [11.75596576,  2.99573227],\n",
       "       [11.76173676,  3.66356165],\n",
       "       [11.76756768,  2.89037176],\n",
       "       [11.78451626,  3.68887945],\n",
       "       [11.81138426,  3.13549422],\n",
       "       [11.8277362 ,  3.66356165],\n",
       "       [11.85008318,  3.21887582],\n",
       "       [11.88207922,  3.58351894],\n",
       "       [11.89720779,  3.80666249],\n",
       "       [11.91002232,  3.63758616],\n",
       "       [11.92158546,  2.83321334],\n",
       "       [11.92171836,  3.36729583],\n",
       "       [11.93010832,  3.13549422],\n",
       "       [11.94308319,  3.21887582],\n",
       "       [11.95600744,  3.09104245],\n",
       "       [11.95674553,  3.80666249],\n",
       "       [11.98978678,  3.17805383],\n",
       "       [11.99658542,  3.55534806],\n",
       "       [12.13864997,  4.02535169]])"
      ]
     },
     "execution_count": 98,
     "metadata": {},
     "output_type": "execute_result"
    }
   ],
   "source": [
    "log_salry = np.log(df2)\n",
    "log_salry"
   ]
  },
  {
   "cell_type": "code",
   "execution_count": 100,
   "id": "fc102bf5",
   "metadata": {
    "scrolled": true
   },
   "outputs": [
    {
     "data": {
      "text/plain": [
       "['Python Numpy  library.ipynb',\n",
       " 'Tableau ',\n",
       " 'Introduction_to_python.ipynb',\n",
       " 'prerana cast certificate_page-0001.jpg',\n",
       " 'Salaries.csv',\n",
       " 'graduation_marksheet.pdf',\n",
       " 'Estimation.ipynb',\n",
       " 'prerana cast certificate_page-0001_11zon.jpg',\n",
       " 'staticstics.ipynb',\n",
       " 'Probability distributions.ipynb',\n",
       " '.DS_Store',\n",
       " '12 th marksheet.pdf',\n",
       " 'Pravin Dattatray Shinde20240906081748.pdf',\n",
       " 'piya_inclome_certificate_page-0001.jpg',\n",
       " 'test',\n",
       " 'Basic stats - 1',\n",
       " '.localized',\n",
       " 'income piya.pdf',\n",
       " '29-2.pdf',\n",
       " 'VJNT_All_Scheme_Course_Data_25.09.2018.xls',\n",
       " 'Untitled.ipynb',\n",
       " 'Day 03 - Probability and Distributions.pptx',\n",
       " 'certificate_for_gents_children-2.pdf',\n",
       " '29-3.pdf',\n",
       " 'request_latter.pdf',\n",
       " '29.pdf',\n",
       " '29-4.pdf',\n",
       " 'pravin adharcard.pdf',\n",
       " 'pycharm python',\n",
       " 'request_latter.pages',\n",
       " '29-5.pdf',\n",
       " 'pravin',\n",
       " 'incomepppp.pdf',\n",
       " 'Basic Statistics-2.ipynb',\n",
       " 'prerana domicile_page-0001.jpg',\n",
       " '29-6.pdf',\n",
       " 'request_latter.doc',\n",
       " 'Basic Statistics.ipynb',\n",
       " '24504315404122001 (1) (1).pdf',\n",
       " 'pravin_cap3.pdf',\n",
       " 'Python Pandas library.ipynb',\n",
       " 'Screenshot 2024-09-04 at 9.55.23\\u202fPM.png',\n",
       " 'Basics of python',\n",
       " '.Rapp.history',\n",
       " 'Matplotlib and Seaborn.ipynb',\n",
       " '24400668416112003 (4).pdf',\n",
       " '.ipynb_checkpoints',\n",
       " 'WhatsApp Image 2024-09-08 at 3.42.10 AM.jpeg',\n",
       " 'User_Data.csv',\n",
       " 'request_latter_11.rtf',\n",
       " 'Day 03-CLT and CI.pptx',\n",
       " 'ViewResult1 (8).pdf',\n",
       " 'prerana.pdf',\n",
       " 'piya_inclome_certificate_page-0001_11zon.jpg',\n",
       " 'certificate_for_gents_children.pdf',\n",
       " 'fbd26f54eeb6ebf61ed9ac9d876c9020.pdf',\n",
       " 'photo pravin shinde.pdf',\n",
       " 'divya.pdf',\n",
       " 'prerana domicile_page-0001_11zon.jpg',\n",
       " 'request_latter copy.pages',\n",
       " 'bonafied.jpeg',\n",
       " 'WhatsApp Image 2024-09-06 at 2.20.23 AM.jpeg']"
      ]
     },
     "execution_count": 100,
     "metadata": {},
     "output_type": "execute_result"
    }
   ],
   "source": [
    "import os\n",
    "os.listdir()"
   ]
  },
  {
   "cell_type": "code",
   "execution_count": 102,
   "id": "fbe0bd15",
   "metadata": {},
   "outputs": [],
   "source": [
    "np.savetxt('salary.txt', log_salry)"
   ]
  },
  {
   "cell_type": "code",
   "execution_count": 104,
   "id": "8cda3288",
   "metadata": {},
   "outputs": [
    {
     "name": "stdout",
     "output_type": "stream",
     "text": [
      "[[10.96474405  3.93182563]\n",
      " [11.04904704  3.21887582]\n",
      " [11.05247605  1.94591015]\n",
      " [11.17135023  2.48490665]\n",
      " [11.19134184  0.69314718]\n",
      " [11.19134184  1.09861229]\n",
      " [11.19821472  1.38629436]\n",
      " [11.20231589  3.25809654]\n",
      " [11.20504069  1.60943791]\n",
      " [11.22112827  2.39789527]\n",
      " [11.22297415  2.56494936]\n",
      " [11.22582989  2.07944154]\n",
      " [11.2515607   1.60943791]\n",
      " [11.25803322  2.30258509]\n",
      " [11.25803322  1.38629436]\n",
      " [11.2708539   2.07944154]\n",
      " [11.29259047  1.38629436]\n",
      " [11.30571678  2.99573227]\n",
      " [11.35040654  0.69314718]\n",
      " [11.38509209  0.        ]\n",
      " [11.41255249  2.83321334]\n",
      " [11.41861479  1.38629436]\n",
      " [11.41861479  3.36729583]\n",
      " [11.41971308  3.40119738]\n",
      " [11.42190607  1.94591015]\n",
      " [11.42954386  1.38629436]\n",
      " [11.42954386  1.38629436]\n",
      " [11.42954386  1.09861229]\n",
      " [11.44035477  2.48490665]\n",
      " [11.45476655  3.36729583]\n",
      " [11.4827961   2.30258509]\n",
      " [11.50708846  3.55534806]\n",
      " [11.53272809  2.99573227]\n",
      " [11.54351286  3.49650756]\n",
      " [11.54515061  3.29583687]\n",
      " [11.54841808  2.39789527]\n",
      " [11.54973944  2.56494936]\n",
      " [11.55208848  2.48490665]\n",
      " [11.55734418  2.94443898]\n",
      " [11.55980905  2.99573227]\n",
      " [11.56171563  2.48490665]\n",
      " [11.56599219  2.89037176]\n",
      " [11.58065888  2.19722458]\n",
      " [11.58338393  2.94443898]\n",
      " [11.60501227  3.13549422]\n",
      " [11.60504875  2.63905733]\n",
      " [11.60781738  3.33220451]\n",
      " [11.61290654  3.13549422]\n",
      " [11.62188749  2.83321334]\n",
      " [11.66521728  3.33220451]\n",
      " [11.67466159  3.58351894]\n",
      " [11.69357896  2.48490665]\n",
      " [11.69524702  2.89037176]\n",
      " [11.71504965  2.99573227]\n",
      " [11.71961438  2.83321334]\n",
      " [11.72547712  3.04452244]\n",
      " [11.73054981  2.83321334]\n",
      " [11.74641531  2.89037176]\n",
      " [11.75141467  3.33220451]\n",
      " [11.75596576  2.99573227]\n",
      " [11.76173676  3.66356165]\n",
      " [11.76756768  2.89037176]\n",
      " [11.78451626  3.68887945]\n",
      " [11.81138426  3.13549422]\n",
      " [11.8277362   3.66356165]\n",
      " [11.85008318  3.21887582]\n",
      " [11.88207922  3.58351894]\n",
      " [11.89720779  3.80666249]\n",
      " [11.91002232  3.63758616]\n",
      " [11.92158546  2.83321334]\n",
      " [11.92171836  3.36729583]\n",
      " [11.93010832  3.13549422]\n",
      " [11.94308319  3.21887582]\n",
      " [11.95600744  3.09104245]\n",
      " [11.95674553  3.80666249]\n",
      " [11.98978678  3.17805383]\n",
      " [11.99658542  3.55534806]\n",
      " [12.13864997  4.02535169]]\n"
     ]
    }
   ],
   "source": [
    "# # # # load the data from the text file and print the loaded data\n",
    "loaded_data = np.loadtxt('salary.txt') \n",
    "print(loaded_data)"
   ]
  },
  {
   "cell_type": "code",
   "execution_count": 9,
   "id": "4308903f",
   "metadata": {},
   "outputs": [],
   "source": [
    "# save the array to a file\n",
    "np.save('losalry.npy', log_salry)\n",
    "# load the saved NumPy array"
   ]
  },
  {
   "cell_type": "code",
   "execution_count": 10,
   "id": "202bb8f0",
   "metadata": {
    "collapsed": true,
    "jupyter": {
     "outputs_hidden": true
    }
   },
   "outputs": [
    {
     "name": "stdout",
     "output_type": "stream",
     "text": [
      "[[10.96474405  3.93182563]\n",
      " [11.04904704  3.21887582]\n",
      " [11.05247605  1.94591015]\n",
      " [11.17135023  2.48490665]\n",
      " [11.19134184  0.69314718]\n",
      " [11.19134184  1.09861229]\n",
      " [11.19821472  1.38629436]\n",
      " [11.20231589  3.25809654]\n",
      " [11.20504069  1.60943791]\n",
      " [11.22112827  2.39789527]\n",
      " [11.22297415  2.56494936]\n",
      " [11.22582989  2.07944154]\n",
      " [11.2515607   1.60943791]\n",
      " [11.25803322  2.30258509]\n",
      " [11.25803322  1.38629436]\n",
      " [11.2708539   2.07944154]\n",
      " [11.29259047  1.38629436]\n",
      " [11.30571678  2.99573227]\n",
      " [11.35040654  0.69314718]\n",
      " [11.38509209  0.        ]\n",
      " [11.41255249  2.83321334]\n",
      " [11.41861479  1.38629436]\n",
      " [11.41861479  3.36729583]\n",
      " [11.41971308  3.40119738]\n",
      " [11.42190607  1.94591015]\n",
      " [11.42954386  1.38629436]\n",
      " [11.42954386  1.38629436]\n",
      " [11.42954386  1.09861229]\n",
      " [11.44035477  2.48490665]\n",
      " [11.45476655  3.36729583]\n",
      " [11.4827961   2.30258509]\n",
      " [11.50708846  3.55534806]\n",
      " [11.53272809  2.99573227]\n",
      " [11.54351286  3.49650756]\n",
      " [11.54515061  3.29583687]\n",
      " [11.54841808  2.39789527]\n",
      " [11.54973944  2.56494936]\n",
      " [11.55208848  2.48490665]\n",
      " [11.55734418  2.94443898]\n",
      " [11.55980905  2.99573227]\n",
      " [11.56171563  2.48490665]\n",
      " [11.56599219  2.89037176]\n",
      " [11.58065888  2.19722458]\n",
      " [11.58338393  2.94443898]\n",
      " [11.60501227  3.13549422]\n",
      " [11.60504875  2.63905733]\n",
      " [11.60781738  3.33220451]\n",
      " [11.61290654  3.13549422]\n",
      " [11.62188749  2.83321334]\n",
      " [11.66521728  3.33220451]\n",
      " [11.67466159  3.58351894]\n",
      " [11.69357896  2.48490665]\n",
      " [11.69524702  2.89037176]\n",
      " [11.71504965  2.99573227]\n",
      " [11.71961438  2.83321334]\n",
      " [11.72547712  3.04452244]\n",
      " [11.73054981  2.83321334]\n",
      " [11.74641531  2.89037176]\n",
      " [11.75141467  3.33220451]\n",
      " [11.75596576  2.99573227]\n",
      " [11.76173676  3.66356165]\n",
      " [11.76756768  2.89037176]\n",
      " [11.78451626  3.68887945]\n",
      " [11.81138426  3.13549422]\n",
      " [11.8277362   3.66356165]\n",
      " [11.85008318  3.21887582]\n",
      " [11.88207922  3.58351894]\n",
      " [11.89720779  3.80666249]\n",
      " [11.91002232  3.63758616]\n",
      " [11.92158546  2.83321334]\n",
      " [11.92171836  3.36729583]\n",
      " [11.93010832  3.13549422]\n",
      " [11.94308319  3.21887582]\n",
      " [11.95600744  3.09104245]\n",
      " [11.95674553  3.80666249]\n",
      " [11.98978678  3.17805383]\n",
      " [11.99658542  3.55534806]\n",
      " [12.13864997  4.02535169]]\n"
     ]
    }
   ],
   "source": [
    "loaded_array = np.load('losalry.npy')\n",
    "# # display the loaded array\n",
    "print(loaded_array)"
   ]
  },
  {
   "cell_type": "code",
   "execution_count": null,
   "id": "ae3c2e29",
   "metadata": {},
   "outputs": [],
   "source": [
    "import os \n",
    "os.listdir()\n",
    "os.remove('file.npz')"
   ]
  },
  {
   "cell_type": "code",
   "execution_count": 12,
   "id": "43867858",
   "metadata": {
    "collapsed": true,
    "jupyter": {
     "outputs_hidden": true
    }
   },
   "outputs": [
    {
     "data": {
      "text/plain": [
       "['.ipynb_checkpoints',\n",
       " 'arrayfile.npz',\n",
       " 'countries.csv',\n",
       " 'country.csv',\n",
       " 'country1.csv',\n",
       " 'country3.csv',\n",
       " 'couuntry.csv',\n",
       " 'data.csv',\n",
       " 'Deep_learning',\n",
       " 'file.csv',\n",
       " 'file.npz',\n",
       " 'file1.csv',\n",
       " 'file1.npy',\n",
       " 'file2.npz',\n",
       " 'Intermediate Numpy .ipynb',\n",
       " 'intermediate Python.ipynb',\n",
       " 'Introduction to python-Copy1.ipynb',\n",
       " 'Introduction_to_python.ipynb',\n",
       " 'losalry.npy',\n",
       " 'Marks.csv',\n",
       " 'Matplotlib and Seaborn.ipynb',\n",
       " 'newfile.txt',\n",
       " 'newfile1.txt',\n",
       " 'Python Interview Questions.docx',\n",
       " 'Python matplotlib library.ipynb',\n",
       " 'Python Numpy  library.ipynb',\n",
       " 'Python Pandas library.ipynb',\n",
       " 'Python pandas numpy .ipynb',\n",
       " 'Python_interview_questions.ipynb',\n",
       " 'results.csv',\n",
       " 'Results1.csv',\n",
       " 'salary.txt',\n",
       " 'testfile',\n",
       " 'testfile5',\n",
       " 'USERDATA.csv',\n",
       " 'users_data.csv',\n",
       " 'users_data.txt']"
      ]
     },
     "execution_count": 12,
     "metadata": {},
     "output_type": "execute_result"
    }
   ],
   "source": [
    "os.listdir()"
   ]
  },
  {
   "cell_type": "code",
   "execution_count": 11,
   "id": "d4327c5d",
   "metadata": {},
   "outputs": [],
   "source": [
    "import numpy as np\n",
    "array1 = np.array([2, 6, 10]) # create two NumPy arrays\n",
    "array2 = np.array([4, 8, 12])\n",
    "np.savez('arrayfile.npz', file1 = array1, file2 = array2)  # save the two arrays into a single file"
   ]
  },
  {
   "cell_type": "code",
   "execution_count": 13,
   "id": "813a0c22",
   "metadata": {},
   "outputs": [
    {
     "name": "stdout",
     "output_type": "stream",
     "text": [
      "<numpy.lib.npyio.NpzFile object at 0x0000020512B62F50>\n"
     ]
    }
   ],
   "source": [
    "# load the saved arrays \n",
    "load_data = np.load('arrayfile.npz')\n",
    "print(load_data)"
   ]
  },
  {
   "cell_type": "code",
   "execution_count": 18,
   "id": "a2e156b2",
   "metadata": {},
   "outputs": [
    {
     "name": "stdout",
     "output_type": "stream",
     "text": [
      "[ 2  6 10]\n",
      "[ 4  8 12]\n"
     ]
    }
   ],
   "source": [
    "# # retrieve the arrays using their names\n",
    "load_data['file1']\n",
    "array2 = load_data['file2']\n",
    "# # display the loaded arrays\n",
    "print(array1)\n",
    "print(array2)"
   ]
  },
  {
   "cell_type": "code",
   "execution_count": 19,
   "id": "64da74ed",
   "metadata": {},
   "outputs": [
    {
     "data": {
      "text/plain": [
       "array([ 2,  6, 10])"
      ]
     },
     "execution_count": 19,
     "metadata": {},
     "output_type": "execute_result"
    }
   ],
   "source": [
    "load_data['file1']"
   ]
  },
  {
   "cell_type": "code",
   "execution_count": 16,
   "id": "3d8c5825",
   "metadata": {},
   "outputs": [
    {
     "data": {
      "text/plain": [
       "['file1', 'file2']"
      ]
     },
     "execution_count": 16,
     "metadata": {},
     "output_type": "execute_result"
    }
   ],
   "source": [
    "load_data.files"
   ]
  },
  {
   "cell_type": "markdown",
   "id": "a115982a",
   "metadata": {},
   "source": [
    "# Linear algebra"
   ]
  },
  {
   "cell_type": "code",
   "execution_count": null,
   "id": "64316412",
   "metadata": {},
   "outputs": [],
   "source": [
    "# NumPy Matrix Operations\n",
    "Functions\tDescriptions\n",
    "array()\tcreates a matrix\n",
    "dot()\tperforms matrix multiplication\n",
    "transpose()\ttransposes a matrix\n",
    "linalg.inv()\tcalculates the inverse of a matrix\n",
    "linalg.det()\tcalculates the determinant of a matrix\n",
    "flatten()\ttransforms a matrix into 1D array\n",
    "\n",
    "# NumPy Linear Algebra Functions\n",
    "Operators\tDescriptions\n",
    "dot()\tcalculates product of two arrays\n",
    "inner()\tcalculates inner product of arrays\n",
    "outer()\tcalculates outer product of arrays\n",
    "det()\tcalculates determinant of a matrix\n",
    "solve()\tsolves linear matrix equation\n",
    "inv()\tcalculates the multiplicative inverse of the matrix\n",
    "trace()\tcalculates the sum of diagonal elements"
   ]
  },
  {
   "cell_type": "code",
   "execution_count": 20,
   "id": "2dd92a37",
   "metadata": {
    "collapsed": true,
    "jupyter": {
     "outputs_hidden": true
    }
   },
   "outputs": [
    {
     "name": "stdout",
     "output_type": "stream",
     "text": [
      "2x2 Matrix:\n",
      " [[1 3]\n",
      " [5 7]]\n",
      "\n",
      "3x3 Matrix:\n",
      " [[ 2  3  5]\n",
      " [ 7 14 21]\n",
      " [ 1  3  5]]\n"
     ]
    }
   ],
   "source": [
    "# create a 2x2 matrix\n",
    "matrix1 = np.array([[1, 3], \n",
    "                   [5, 7]])\n",
    "print(\"2x2 Matrix:\\n\",matrix1)\n",
    "# create a 3x3  matrix\n",
    "matrix2 = np.array([[2, 3, 5],\n",
    "             \t    [7, 14, 21],\n",
    "                    [1, 3, 5]])\n",
    "print(\"\\n3x3 Matrix:\\n\",matrix2)"
   ]
  },
  {
   "cell_type": "code",
   "execution_count": 21,
   "id": "35991529",
   "metadata": {
    "collapsed": true,
    "jupyter": {
     "outputs_hidden": true
    }
   },
   "outputs": [
    {
     "name": "stdout",
     "output_type": "stream",
     "text": [
      "[[ 2  0  0]\n",
      " [ 7 14  0]\n",
      " [ 1  3  5]]\n",
      "[[ 2  3  5]\n",
      " [ 0 14 21]\n",
      " [ 0  0  5]]\n"
     ]
    }
   ],
   "source": [
    "# triangular matrices\n",
    "from numpy import array\n",
    "from numpy import tril\n",
    "from numpy import triu\n",
    "lower = tril(matrix2)\n",
    "print(lower)\n",
    "upper = triu(matrix2)\n",
    "print(upper)"
   ]
  },
  {
   "cell_type": "code",
   "execution_count": 26,
   "id": "b7a280d7",
   "metadata": {
    "collapsed": true,
    "jupyter": {
     "outputs_hidden": true
    }
   },
   "outputs": [
    {
     "name": "stdout",
     "output_type": "stream",
     "text": [
      "[[1 2 3]\n",
      " [1 2 3]\n",
      " [1 2 3]]\n",
      "Diagonal values: [1 2 3]\n",
      "[[1 0 0]\n",
      " [0 2 0]\n",
      " [0 0 3]]\n"
     ]
    }
   ],
   "source": [
    "# diagonal matrix\n",
    "from numpy import diag\n",
    "M = array([[1, 2, 3], \n",
    "           [1, 2, 3], \n",
    "           [1, 2, 3]])\n",
    "print(M)\n",
    "# extract diagonal vector\n",
    "d = diag(M)\n",
    "print('Diagonal values:',d)\n",
    "# create diagonal matrix from vector\n",
    "D = diag(d)\n",
    "print(D)"
   ]
  },
  {
   "cell_type": "code",
   "execution_count": 30,
   "id": "831b71d2",
   "metadata": {
    "collapsed": true,
    "jupyter": {
     "outputs_hidden": true
    }
   },
   "outputs": [
    {
     "name": "stdout",
     "output_type": "stream",
     "text": [
      "[[1. 0. 0. 0.]\n",
      " [0. 1. 0. 0.]\n",
      " [0. 0. 1. 0.]\n",
      " [0. 0. 0. 1.]]\n"
     ]
    }
   ],
   "source": [
    "# identity matrix\n",
    "from numpy import identity\n",
    "I = identity(4)\n",
    "print(I)"
   ]
  },
  {
   "cell_type": "code",
   "execution_count": 31,
   "id": "111f328c",
   "metadata": {
    "collapsed": true,
    "jupyter": {
     "outputs_hidden": true
    }
   },
   "outputs": [
    {
     "name": "stdout",
     "output_type": "stream",
     "text": [
      "[[ 2 18]\n",
      " [20 56]]\n",
      "matrix1 x matrix2: \n",
      " [[14 30]\n",
      " [38 86]]\n"
     ]
    }
   ],
   "source": [
    "#create two matrices\n",
    "matrix1 = np.array([[1, 3], \n",
    "                    [5, 7]])\n",
    "matrix2 = np.array([[2, 6], \n",
    "                    [4, 8]])\n",
    "mult = matrix1*matrix2\n",
    "print(mult)\n",
    "# calculate the dot product of the two matrices\n",
    "result = np.dot(matrix1, matrix2)\n",
    "print(\"matrix1 x matrix2: \\n\",result)"
   ]
  },
  {
   "cell_type": "code",
   "execution_count": 32,
   "id": "94a9edf8",
   "metadata": {
    "collapsed": true,
    "jupyter": {
     "outputs_hidden": true
    }
   },
   "outputs": [
    {
     "name": "stdout",
     "output_type": "stream",
     "text": [
      "[1.5 3.5 5.5]\n",
      "[1.5 3.5 5.5]\n"
     ]
    }
   ],
   "source": [
    "# matrix-vector multiplication\n",
    "A = array([[1, 2], [3, 4], [5, 6]])\n",
    "B = array([0.5, 0.5])\n",
    "C = A.dot(B)\n",
    "print(C)\n",
    "D = A @ B\n",
    "print(D)"
   ]
  },
  {
   "cell_type": "code",
   "execution_count": 33,
   "id": "d011d8e3",
   "metadata": {
    "collapsed": true,
    "jupyter": {
     "outputs_hidden": true
    }
   },
   "outputs": [
    {
     "name": "stdout",
     "output_type": "stream",
     "text": [
      "[[1 5]\n",
      " [3 7]\n",
      " [5 0]\n",
      " [6 1]\n",
      " [7 2]]\n",
      "[[1 5]\n",
      " [3 7]\n",
      " [5 0]\n",
      " [6 1]\n",
      " [7 2]]\n"
     ]
    }
   ],
   "source": [
    "# create a matrix\n",
    "matrix1 = np.array([[1, 3,5,6,7],\n",
    "                    [5, 7,0,1,2]])\n",
    "# get transpose of matrix1\n",
    "result = np.transpose(matrix1)\n",
    "result_1 = matrix1.T\n",
    "print(result)\n",
    "print(result_1)"
   ]
  },
  {
   "cell_type": "code",
   "execution_count": 34,
   "id": "caf023bf",
   "metadata": {
    "collapsed": true,
    "jupyter": {
     "outputs_hidden": true
    }
   },
   "outputs": [
    {
     "name": "stdout",
     "output_type": "stream",
     "text": [
      "[[1 2 3]\n",
      " [4 6 6]\n",
      " [7 8 9]]\n",
      "16\n"
     ]
    }
   ],
   "source": [
    "# trace of matrix (sum of diagonal values is trace.)\n",
    "from numpy import trace\n",
    "A = array([[1, 2, 3],  [4, 6, 6],[7, 8, 9]])\n",
    "print(A)\n",
    "B = trace(A)\n",
    "print(B)"
   ]
  },
  {
   "cell_type": "code",
   "execution_count": 35,
   "id": "b36c0209",
   "metadata": {},
   "outputs": [
    {
     "name": "stdout",
     "output_type": "stream",
     "text": [
      "-4.999999999999999\n"
     ]
    }
   ],
   "source": [
    "# find determinant of matrix1\n",
    "matrix1 = np.array([[1, 2, 3], [4, 5, 1],[2, 3, 4]])\n",
    "result = np.linalg.det(matrix1)\n",
    "print(result)"
   ]
  },
  {
   "cell_type": "code",
   "execution_count": 40,
   "id": "80f20ac2",
   "metadata": {
    "collapsed": true,
    "jupyter": {
     "outputs_hidden": true
    }
   },
   "outputs": [
    {
     "name": "stdout",
     "output_type": "stream",
     "text": [
      "[[1 2 3]\n",
      " [4 5 1]\n",
      " [0 0 0]]\n",
      "2\n",
      "[1 0 0 0 0]\n",
      "1\n"
     ]
    }
   ],
   "source": [
    "# vector rank\n",
    "from numpy.linalg import matrix_rank\n",
    "# rank\n",
    "v1 = array([[1, 2, 3], [4, 5, 1], [0,0,0]])\n",
    "print(v1)\n",
    "vr1 = matrix_rank(v1)\n",
    "print(vr1)\n",
    "# zero rank\n",
    "v2 = array([1,0,0,0,0])\n",
    "print(v2)\n",
    "vr2 = matrix_rank(v2)\n",
    "print(vr2)"
   ]
  },
  {
   "cell_type": "code",
   "execution_count": 41,
   "id": "ab41dc09",
   "metadata": {},
   "outputs": [
    {
     "name": "stdout",
     "output_type": "stream",
     "text": [
      "Flattened 2x3 matrix: [1 2 3 4 5 1 2 3 4]\n"
     ]
    }
   ],
   "source": [
    "#Flatten Matrix in NumPy\n",
    "result = matrix1.flatten()\n",
    "print(\"Flattened 2x3 matrix:\", result)"
   ]
  },
  {
   "cell_type": "code",
   "execution_count": 42,
   "id": "a1ea5e14",
   "metadata": {},
   "outputs": [
    {
     "name": "stdout",
     "output_type": "stream",
     "text": [
      "[0 1 2 3 5]\n"
     ]
    }
   ],
   "source": [
    "#NumPy Set Operations\n",
    "import numpy as np\n",
    "A = np.array([[1, 3, 5]])\n",
    "B = np.array([0, 2, 3])\n",
    "# union of two arrays\n",
    "result = np.union1d(A, B)\n",
    "print(result)  "
   ]
  },
  {
   "cell_type": "code",
   "execution_count": 43,
   "id": "c386e4d0",
   "metadata": {},
   "outputs": [
    {
     "name": "stdout",
     "output_type": "stream",
     "text": [
      "[3]\n"
     ]
    }
   ],
   "source": [
    "# intersection of two arrays\n",
    "result = np.intersect1d(A, B)\n",
    "print(result)  "
   ]
  },
  {
   "cell_type": "code",
   "execution_count": 47,
   "id": "4aae0161",
   "metadata": {},
   "outputs": [
    {
     "name": "stdout",
     "output_type": "stream",
     "text": [
      "[0 2]\n"
     ]
    }
   ],
   "source": [
    "# difference of two arrays\n",
    "result = np.setdiff1d(B,A)\n",
    "print(result)  "
   ]
  },
  {
   "cell_type": "code",
   "execution_count": 45,
   "id": "147c24f3",
   "metadata": {},
   "outputs": [
    {
     "name": "stdout",
     "output_type": "stream",
     "text": [
      "[0 1 2 5]\n"
     ]
    }
   ],
   "source": [
    "# symmetric difference of two arrays\n",
    "result = np.setxor1d(A, B)\n",
    "print(result)  "
   ]
  },
  {
   "cell_type": "code",
   "execution_count": 46,
   "id": "e6796117",
   "metadata": {},
   "outputs": [
    {
     "name": "stdout",
     "output_type": "stream",
     "text": [
      "[1 2 3 4 5 7]\n"
     ]
    }
   ],
   "source": [
    "array1 = np.array([1,1, 2, 2, 4, 7, 7, 3, 5, 2, 5])\n",
    "# unique values from array1\n",
    "result = np.unique(array1)\n",
    "print(result)  "
   ]
  },
  {
   "cell_type": "markdown",
   "id": "ddbe6888",
   "metadata": {},
   "source": [
    "# Numpy Random"
   ]
  },
  {
   "cell_type": "code",
   "execution_count": 59,
   "id": "8a0156be",
   "metadata": {},
   "outputs": [
    {
     "name": "stdout",
     "output_type": "stream",
     "text": [
      "1\n"
     ]
    }
   ],
   "source": [
    "import numpy as np\n",
    "# generate random integer from 0 to 9\n",
    "random_number = np.random.randint(0, 2)\n",
    "print(random_number)"
   ]
  },
  {
   "cell_type": "code",
   "execution_count": 90,
   "id": "52bbd8bb",
   "metadata": {},
   "outputs": [
    {
     "name": "stdout",
     "output_type": "stream",
     "text": [
      "[0 0 0 1 0 0 1 0 1 1]\n"
     ]
    }
   ],
   "source": [
    "from numpy import random as rd\n",
    "random_number = rd.randint(0, 2,10)\n",
    "print(random_number)"
   ]
  },
  {
   "cell_type": "code",
   "execution_count": 105,
   "id": "8ae09f46",
   "metadata": {},
   "outputs": [
    {
     "name": "stdout",
     "output_type": "stream",
     "text": [
      "[0.57001453 0.25792099 0.59077157 0.91899903 0.23277905 0.81470957\n",
      " 0.40761232 0.08422419 0.75546455 0.57028602]\n"
     ]
    }
   ],
   "source": [
    "# generate random float-point number between 0 and 1\n",
    "random_number = np.random.rand(10)\n",
    "print(random_number)"
   ]
  },
  {
   "cell_type": "code",
   "execution_count": 110,
   "id": "b34f3e89",
   "metadata": {
    "collapsed": true,
    "jupyter": {
     "outputs_hidden": true
    }
   },
   "outputs": [
    {
     "name": "stdout",
     "output_type": "stream",
     "text": [
      "\n",
      "2D Random Integer Array:\n",
      " [[[780 303 789 675]\n",
      "  [374 957 689 129]\n",
      "  [425 638 111 493]]\n",
      "\n",
      " [[394 775 146 335]\n",
      "  [921 947 645 306]\n",
      "  [939 414 132 476]]\n",
      "\n",
      " [[215 741 691 347]\n",
      "  [159 785 706 805]\n",
      "  [703 168 659 352]]]\n"
     ]
    }
   ],
   "source": [
    "# generate 2D array of shape (3, 4) with random integers\n",
    "result = np.random.randint(100, 1000, (3,3,4))\n",
    "print(\"\\n2D Random Integer Array:\\n\",result)"
   ]
  },
  {
   "cell_type": "code",
   "execution_count": 112,
   "id": "66f54008",
   "metadata": {},
   "outputs": [
    {
     "name": "stdout",
     "output_type": "stream",
     "text": [
      "3\n"
     ]
    }
   ],
   "source": [
    "# create an array of integers from 1 to 5\n",
    "array1 = np.array([1, 2, 3, 4, 5,6])\n",
    "# choose a random number from array1\n",
    "random_choice = np.random.choice(array1)\n",
    "print(random_choice)"
   ]
  },
  {
   "cell_type": "code",
   "execution_count": 118,
   "id": "4574756c",
   "metadata": {},
   "outputs": [
    {
     "name": "stdout",
     "output_type": "stream",
     "text": [
      "ST\n"
     ]
    }
   ],
   "source": [
    "name = np.array(['data','DA','DS','ST'])\n",
    "random_choice = np.random.choice(name)\n",
    "print(random_choice)"
   ]
  },
  {
   "cell_type": "code",
   "execution_count": 124,
   "id": "a67b271d",
   "metadata": {},
   "outputs": [
    {
     "name": "stdout",
     "output_type": "stream",
     "text": [
      "[10  9 10  8 10 10  9  8  9  9]\n"
     ]
    }
   ],
   "source": [
    "# np.random.seed(10)\n",
    "data = np.random.binomial(10,0.90,size=10)\n",
    "print(data)"
   ]
  },
  {
   "cell_type": "code",
   "execution_count": 135,
   "id": "5d14429b",
   "metadata": {},
   "outputs": [
    {
     "data": {
      "text/plain": [
       "array([4, 3, 1, 4, 4, 0, 2, 6, 5, 0, 3, 1, 4, 6, 3, 0, 1, 3, 2, 0, 2, 5,\n",
       "       2, 5, 3, 1, 3, 1, 2, 3])"
      ]
     },
     "execution_count": 135,
     "metadata": {},
     "output_type": "execute_result"
    }
   ],
   "source": [
    "pos_values = np.random.poisson(lam=2.4,size = 30)\n",
    "pos_values"
   ]
  },
  {
   "cell_type": "code",
   "execution_count": 136,
   "id": "59e97286",
   "metadata": {},
   "outputs": [
    {
     "data": {
      "text/plain": [
       "2.6333333333333333"
      ]
     },
     "execution_count": 136,
     "metadata": {},
     "output_type": "execute_result"
    }
   ],
   "source": [
    "np.mean(np.array([4, 3, 1, 4, 4, 0, 2, 6, 5, 0, 3, 1, 4, 6, 3, 0, 1, 3, 2, 0, 2, 5,\n",
    "       2, 5, 3, 1, 3, 1, 2, 3]))"
   ]
  },
  {
   "cell_type": "code",
   "execution_count": 137,
   "id": "fff1ab5a",
   "metadata": {
    "collapsed": true,
    "jupyter": {
     "outputs_hidden": true
    }
   },
   "outputs": [
    {
     "data": {
      "text/plain": [
       "array([24.4970883 , 27.91348061, 22.1865623 , 27.24423642, 24.43817017,\n",
       "       22.63420197, 24.03707052, 28.83458676, 25.40077561, 24.86871511,\n",
       "       23.22924343, 28.41484631, 27.62374122, 20.86705877, 23.8558239 ,\n",
       "       26.6747668 , 25.47822742, 29.01276467, 26.40525511, 27.94110367,\n",
       "       26.03034911, 28.11831038, 27.68369749, 26.20183902, 23.30923593,\n",
       "       24.57255905, 25.05187462, 24.38659727, 26.41651231, 24.24855067,\n",
       "       24.50370883, 23.82408728, 21.17411979, 27.44209004, 26.74816958,\n",
       "       28.05581124, 23.17944809, 27.29176223, 24.60624052, 27.80727015,\n",
       "       22.47593206, 24.01349462, 24.933168  , 25.88980288, 28.87792607,\n",
       "       25.07165737, 19.02454513, 30.82501296, 30.57720543, 24.08994186])"
      ]
     },
     "execution_count": 137,
     "metadata": {},
     "output_type": "execute_result"
    }
   ],
   "source": [
    "norm_values = np.random.normal(25,2.5,50)\n",
    "norm_values"
   ]
  },
  {
   "cell_type": "code",
   "execution_count": 138,
   "id": "8c315701",
   "metadata": {},
   "outputs": [
    {
     "data": {
      "text/plain": [
       "(19.024545134219487, 30.825012958627536, 25.559772781390055, 2.445338483603056)"
      ]
     },
     "execution_count": 138,
     "metadata": {},
     "output_type": "execute_result"
    }
   ],
   "source": [
    "min(norm_values), max(norm_values),np.mean(norm_values),np.std(norm_values)"
   ]
  },
  {
   "cell_type": "code",
   "execution_count": 143,
   "id": "64ea234b",
   "metadata": {},
   "outputs": [
    {
     "name": "stdout",
     "output_type": "stream",
     "text": [
      "25.321461590968728\n",
      "2.0017785648114734\n"
     ]
    }
   ],
   "source": [
    "sampl1 = np.random.choice(norm_values,size = 45)\n",
    "print(np.mean(sampl1))\n",
    "print(np.std(sampl1))"
   ]
  },
  {
   "cell_type": "code",
   "execution_count": 149,
   "id": "2a6a2da1",
   "metadata": {},
   "outputs": [
    {
     "name": "stdout",
     "output_type": "stream",
     "text": [
      "The value of gold on day 3 is 65.0\n"
     ]
    }
   ],
   "source": [
    "# interpolation\n",
    "day = np.array([2, 4, 7])\n",
    "gold_price = np.array([55, 58, 65])\n",
    "# find the value of gold on day 3\n",
    "day3_value = np.interp(13, day, gold_price)\n",
    "print(\"The value of gold on day 3 is\", day3_value)"
   ]
  },
  {
   "cell_type": "code",
   "execution_count": 150,
   "id": "ab94d975",
   "metadata": {},
   "outputs": [
    {
     "name": "stdout",
     "output_type": "stream",
     "text": [
      "[55.         56.5        60.33333333 62.66666667 66.66666667 68.33333333\n",
      " 70.        ]\n"
     ]
    }
   ],
   "source": [
    "import numpy as np\n",
    "day = np.array([2, 4, 7, 10,11])\n",
    "gold_price = np.array([55, 58, 65, 70,700])\n",
    "# days whose value is to be interpolated\n",
    "interpolate_days = np.array([1, 3, 5, 6, 8, 9,12])\n",
    "interpolated_price= np.interp(interpolate_days, day, gold_price)\n",
    "print(interpolated_price)"
   ]
  },
  {
   "cell_type": "markdown",
   "id": "17e7a08f",
   "metadata": {},
   "source": [
    "# NumPy Date and Time"
   ]
  },
  {
   "cell_type": "code",
   "execution_count": 157,
   "id": "e1576ad2",
   "metadata": {},
   "outputs": [
    {
     "name": "stdout",
     "output_type": "stream",
     "text": [
      "Current date and time:\n",
      "2024-05-05T12:08:04\n",
      "2024-05-05\n",
      "Today's date:\n",
      "2024-05-05T12:08:04\n"
     ]
    }
   ],
   "source": [
    "# get the current date and time \n",
    "result = np.datetime64('now')\n",
    "today = np.datetime64('Today')\n",
    "print(\"Current date and time:\")\n",
    "print(result)\n",
    "print(today)\n",
    "\n",
    "# get the current date\n",
    "date_today = np.datetime64(result,'s' )\n",
    "\n",
    "print(\"Today's date:\")\n",
    "print(date_today)"
   ]
  },
  {
   "cell_type": "code",
   "execution_count": 158,
   "id": "73343298",
   "metadata": {},
   "outputs": [
    {
     "name": "stdout",
     "output_type": "stream",
     "text": [
      "Year:  2023\n",
      "Month:  2023-04\n",
      "Day:  2023-04-29\n",
      "Hour:  2023-04-29T10\n",
      "Minute:  2023-04-29T10:30\n",
      "Second:  2023-04-29T10:30:15\n"
     ]
    }
   ],
   "source": [
    "import numpy as np\n",
    "\n",
    "# use datetime64() for different time units\n",
    "year = np.datetime64('2023', 'Y')\n",
    "month = np.datetime64('2023-04', 'M')\n",
    "day = np.datetime64('2023-04-29', 'D')\n",
    "hour = np.datetime64('2023-04-29T10', 'h')\n",
    "minute = np.datetime64('2023-04-29T10:30', 'm')\n",
    "second = np.datetime64('2023-04-29T10:30:15', 's')\n",
    "\n",
    "print(\"Year: \", year)\n",
    "print(\"Month: \", month)\n",
    "print(\"Day: \", day)\n",
    "print(\"Hour: \", hour)\n",
    "print(\"Minute: \", minute)\n",
    "print(\"Second: \", second)"
   ]
  },
  {
   "cell_type": "code",
   "execution_count": null,
   "id": "8071ea04",
   "metadata": {},
   "outputs": [],
   "source": [
    "Convert datetime64 Objects"
   ]
  },
  {
   "cell_type": "code",
   "execution_count": 159,
   "id": "0a1cfacb",
   "metadata": {},
   "outputs": [
    {
     "name": "stdout",
     "output_type": "stream",
     "text": [
      "2024-05-05T12:10:30\n",
      "<class 'numpy.datetime64'>\n",
      "2024-05-05 12:10:30\n",
      "<class 'datetime.datetime'>\n"
     ]
    }
   ],
   "source": [
    "import numpy as np\n",
    "from datetime import datetime\n",
    "\n",
    "# create a datetime64 object\n",
    "dt64 = np.datetime64('now')\n",
    "print(dt64)\n",
    "print(type(dt64))\n",
    "\n",
    "# convert datetime64 to datetime object\n",
    "dt = dt64.astype(datetime)\n",
    "print(dt)\n",
    "\n",
    "# print the datetime object\n",
    "print(type(dt))"
   ]
  },
  {
   "cell_type": "code",
   "execution_count": null,
   "id": "f50bfa95",
   "metadata": {},
   "outputs": [],
   "source": [
    "# Create a Range of Dates"
   ]
  },
  {
   "cell_type": "code",
   "execution_count": 166,
   "id": "cb2c94e5",
   "metadata": {},
   "outputs": [
    {
     "name": "stdout",
     "output_type": "stream",
     "text": [
      "1\n"
     ]
    }
   ],
   "source": [
    "import numpy as np\n",
    "# create a range of dates from 2023-04-01 to 2023-04-10\n",
    "dates = np.arange('2024-01-01', '2025-01-01', dtype='datetime64[Y]')\n",
    "# print the dates\n",
    "print(len(dates))"
   ]
  },
  {
   "cell_type": "code",
   "execution_count": null,
   "id": "3eb4a1e4",
   "metadata": {},
   "outputs": [],
   "source": [
    "Arithmetic Operations on NumPy datetime64 Objects"
   ]
  },
  {
   "cell_type": "code",
   "execution_count": 171,
   "id": "0a9d720d",
   "metadata": {},
   "outputs": [
    {
     "name": "stdout",
     "output_type": "stream",
     "text": [
      "Today's date: 2024-05-05\n",
      "Tomorrow's date: 2024-05-08\n",
      "Number of days between 2024-12-01 and 2024-01-30 is 306 days\n"
     ]
    }
   ],
   "source": [
    "today = np.datetime64('today')             # create a datetime64 object for today\n",
    "tomorrow = today + np.timedelta64(3, 'D')       # add one day to today's date\n",
    "date1 = np.datetime64('2024-12-01')    # create datetime64 objects for two dates\n",
    "date2 = np.datetime64('2024-01-30')\n",
    "num_days = date1 - date2   # calculate the number of days between the two dates\n",
    "\n",
    "# display the results\n",
    "print(\"Today's date:\", today)\n",
    "print(\"Tomorrow's date:\", tomorrow)\n",
    "print(\"Number of days between\", date1, \"and\", date2, \"is\", num_days)"
   ]
  },
  {
   "cell_type": "code",
   "execution_count": null,
   "id": "766c71a4",
   "metadata": {},
   "outputs": [],
   "source": [
    "tomorrow = today + np.timedelta64(24, 'h') \n",
    "print(tomorrow)"
   ]
  },
  {
   "cell_type": "code",
   "execution_count": null,
   "id": "c9c87c05",
   "metadata": {},
   "outputs": [],
   "source": [
    "# NumPy busday() Function"
   ]
  },
  {
   "cell_type": "code",
   "execution_count": null,
   "id": "788e5e6a",
   "metadata": {},
   "outputs": [],
   "source": [
    "'1111100'"
   ]
  },
  {
   "cell_type": "code",
   "execution_count": 173,
   "id": "2f31d538",
   "metadata": {},
   "outputs": [
    {
     "name": "stdout",
     "output_type": "stream",
     "text": [
      "Number of business days between 2024-05-01 and 2024-05-30 is 23\n"
     ]
    }
   ],
   "source": [
    "# create datetime64 objects for two dates\n",
    "date1 = np.datetime64('2024-05-01')\n",
    "date2 = np.datetime64('2024-05-30')\n",
    "# calculate the number of business days between the two dates\n",
    "num_business_days = np.busday_count(date1, date2,weekmask='1111011',holidays=['2024-05-01','2024-05-20'])\n",
    "# display the number of business days between the two dates\n",
    "print(\"Number of business days between\", date1, \"and\", date2, \"is\", num_business_days)"
   ]
  },
  {
   "cell_type": "code",
   "execution_count": 21,
   "id": "8462f3d6",
   "metadata": {},
   "outputs": [
    {
     "name": "stdout",
     "output_type": "stream",
     "text": [
      "[[1 2 3 4]\n",
      " [2 3 4 6]]\n",
      "np.transapose\n",
      "[[1 2]\n",
      " [2 3]\n",
      " [3 4]\n",
      " [4 6]]\n",
      "array transpose\n",
      "<built-in method transpose of numpy.ndarray object at 0x127d39170>\n"
     ]
    }
   ],
   "source": [
    "import numpy as np\n",
    "first_array=np.array([[1,2,3,4],[2,3,4,6]])\n",
    "print(first_array)\n",
    "print('np.transapose')\n",
    "print(np.transpose(first_array))\n",
    "print('array transpose')\n",
    "print(first_array.transpose)\n"
   ]
  },
  {
   "cell_type": "code",
   "execution_count": 29,
   "id": "5fe9321e-10fa-452a-89d2-6e2cbb63ebd6",
   "metadata": {},
   "outputs": [
    {
     "name": "stdout",
     "output_type": "stream",
     "text": [
      "initial angle in redian : 1\n",
      "57.29577951308232\n",
      "0.017453292519943295\n"
     ]
    }
   ],
   "source": [
    "import numpy as np\n",
    "angle=1\n",
    "print(\"initial angle in redian :\" ,angle)\n",
    "angle_degree=np.degrees(angle)\n",
    "print(angle_degree)\n",
    "angle_radians=np.radians(angle)\n",
    "print(angle_radians)"
   ]
  },
  {
   "cell_type": "code",
   "execution_count": 41,
   "id": "7844cacb-8320-4510-a688-f4bf78c75999",
   "metadata": {},
   "outputs": [
    {
     "name": "stdout",
     "output_type": "stream",
     "text": [
      "angles [2 3 4 6]\n",
      "sin [ 0.90929743  0.14112001 -0.7568025  -0.2794155 ]\n",
      "inverse_arcsin_val [nan nan nan nan]\n"
     ]
    },
    {
     "name": "stderr",
     "output_type": "stream",
     "text": [
      "/var/folders/w6/w0lg558j7n909bd5_jy8hqqw0000gn/T/ipykernel_1134/2791368638.py:6: RuntimeWarning: invalid value encountered in arcsin\n",
      "  inverse_arcsin_val=np.arcsin(angles)\n"
     ]
    }
   ],
   "source": [
    "import numpy as np\n",
    "angles=np.array([2,3,4,6])\n",
    "print(\"angles\",angles)\n",
    "sin_val=np.sin(angles)\n",
    "print(\"sin\",sin_val)\n",
    "inverse_arcsin_val=np.arcsin(angles)\n",
    "print(\"inverse_arcsin_val\",inverse_arcsin_val)"
   ]
  },
  {
   "cell_type": "code",
   "execution_count": 53,
   "id": "f9553d32-8475-4985-821c-6018f69bd0ed",
   "metadata": {},
   "outputs": [
    {
     "name": "stdout",
     "output_type": "stream",
     "text": [
      "mena_marks: [3.  6.4 4. ]\n",
      "med_marks: [3. 7. 4.]\n",
      "min_marks: [1 2 2]\n",
      "max_marks: [5 9 6]\n",
      "sum_marks: [15 32 20]\n",
      "var_marks: [2.   5.84 2.  ]\n",
      "std_marks: [1.41421356 2.41660919 1.41421356]\n",
      "[2. 6. 3.]\n",
      "[3. 7. 4.]\n",
      "[4. 8. 5.]\n"
     ]
    },
    {
     "ename": "TypeError",
     "evalue": "percentile() missing 1 required positional argument: 'q'",
     "output_type": "error",
     "traceback": [
      "\u001b[0;31m---------------------------------------------------------------------------\u001b[0m",
      "\u001b[0;31mTypeError\u001b[0m                                 Traceback (most recent call last)",
      "Cell \u001b[0;32mIn[53], line 35\u001b[0m\n\u001b[1;32m     32\u001b[0m q3\u001b[38;5;241m=\u001b[39mnp\u001b[38;5;241m.\u001b[39mquantile(array,\u001b[38;5;241m0.75\u001b[39m,axis\u001b[38;5;241m=\u001b[39m\u001b[38;5;241m1\u001b[39m)\n\u001b[1;32m     33\u001b[0m \u001b[38;5;28mprint\u001b[39m(q3)\n\u001b[0;32m---> 35\u001b[0m p3\u001b[38;5;241m=\u001b[39mnp\u001b[38;5;241m.\u001b[39mpercentile(array,axis\u001b[38;5;241m=\u001b[39m\u001b[38;5;241m1\u001b[39m)\n\u001b[1;32m     36\u001b[0m \u001b[38;5;28mprint\u001b[39m(p3)\n",
      "\u001b[0;31mTypeError\u001b[0m: percentile() missing 1 required positional argument: 'q'"
     ]
    }
   ],
   "source": [
    "import numpy as np\n",
    "array=np.array([[1,2,3,4,5],\n",
    "                [6,7,8,9,2],\n",
    "                [2,3,4,5,6]])\n",
    "mean_marks=np.mean(array,axis=1)\n",
    "print(\"mena_marks:\",mean_marks)\n",
    "\n",
    "med_marks=np.median(array,axis=1)\n",
    "print(\"med_marks:\",med_marks)\n",
    "\n",
    "min_marks=np.min(array,axis=1)\n",
    "print(\"min_marks:\",min_marks)\n",
    "\n",
    "max_marks=np.max(array,axis=1)\n",
    "print(\"max_marks:\",max_marks)\n",
    "\n",
    "sum_marks=np.sum(array,axis=1)\n",
    "print(\"sum_marks:\",sum_marks)\n",
    "\n",
    "var_marks=np.var(array,axis=1)\n",
    "print(\"var_marks:\",var_marks)\n",
    "\n",
    "std_marks=np.std(array,axis=1)\n",
    "print(\"std_marks:\",std_marks)\n",
    "\n",
    "q1=np.quantile(array,0.25,axis=1)\n",
    "print(q1)\n",
    "\n",
    "q2=np.quantile(array,0.50,axis=1)\n",
    "print(q2)\n",
    "\n",
    "q3=np.quantile(array,0.75,axis=1)\n",
    "print(q3)\n",
    "\n",
    "p3=np.percentile(array,axis=1)\n",
    "print(p3)"
   ]
  },
  {
   "cell_type": "code",
   "execution_count": 59,
   "id": "95aeede0-1877-4267-83bf-4d9288f8d29b",
   "metadata": {},
   "outputs": [
    {
     "name": "stdout",
     "output_type": "stream",
     "text": [
      "[      1   23545       2 3545667       3   54656       4  567567]\n",
      "array after floor : [1.000000e+00 2.354500e+04 2.000000e+00 3.545667e+06 3.000000e+00\n",
      " 5.465600e+04 4.000000e+00 5.675670e+05]\n",
      "array after ceil : [1.000000e+00 2.354500e+04 2.000000e+00 3.545667e+06 3.000000e+00\n",
      " 5.465600e+04 4.000000e+00 5.675670e+05]\n"
     ]
    }
   ],
   "source": [
    "import numpy as np\n",
    "numbers=np.array([1,23545,2,3545667,3,54656,4,567567])\n",
    "rounded_arr=np.round(numbers,1)\n",
    "print(rounded_arr)\n",
    "print(\"array after floor :\",np.floor(numbers))\n",
    "print(\"array after ceil :\",np.ceil(numbers))"
   ]
  },
  {
   "cell_type": "code",
   "execution_count": 61,
   "id": "60590d8e-62b9-4abc-b859-3065598949fd",
   "metadata": {},
   "outputs": [
    {
     "name": "stdout",
     "output_type": "stream",
     "text": [
      "['iphonepro max' 'price1lk']\n"
     ]
    }
   ],
   "source": [
    "import numpy as np\n",
    "arr1=np.array(['iphone',\"price\"])\n",
    "arr2=np.array(['pro max','1lk'])\n",
    "result=np.char.add(arr1,arr2)\n",
    "print(result)"
   ]
  },
  {
   "cell_type": "code",
   "execution_count": 65,
   "id": "f2073ec0-0e44-43c3-adf1-4ab0fbc2bf20",
   "metadata": {},
   "outputs": [
    {
     "name": "stdout",
     "output_type": "stream",
     "text": [
      "['AAA' 'BBB' 'CCC']\n"
     ]
    }
   ],
   "source": [
    "import numpy as np\n",
    "arr1=np.array(['A','B','C'])\n",
    "res=np.char.multiply(arr1,3)\n",
    "print(res)"
   ]
  },
  {
   "cell_type": "code",
   "execution_count": 69,
   "id": "d98e8fd0-69df-4de1-8614-74b9751e4fc5",
   "metadata": {},
   "outputs": [
    {
     "name": "stdout",
     "output_type": "stream",
     "text": [
      "['Iphone' 'Price']\n"
     ]
    }
   ],
   "source": [
    "import numpy as np\n",
    "arr1=np.array(['iphone',\"price\"])\n",
    "res=np.char.capitalize(arr1)\n",
    "print(res)"
   ]
  },
  {
   "cell_type": "code",
   "execution_count": 82,
   "id": "d5d332df-7f07-49c0-908f-8fd35b10f88d",
   "metadata": {},
   "outputs": [
    {
     "name": "stdout",
     "output_type": "stream",
     "text": [
      "['h**e**l**l**o' 'w**o**r**l**d']\n"
     ]
    }
   ],
   "source": [
    "\n",
    "import numpy as np\n",
    "# create an array of strings\n",
    "array1 = np.array(['hello', 'world'])\n",
    "# join the strings in the array using a dash as the delimiter\n",
    "result = np.char.join(\"**\", array1)\n",
    "print(result)"
   ]
  },
  {
   "cell_type": "code",
   "execution_count": 3,
   "id": "a200d443-741a-40f7-b214-241e6f653341",
   "metadata": {},
   "outputs": [
    {
     "name": "stdout",
     "output_type": "stream",
     "text": [
      "pritn current data aand time \n",
      "2024-09-19T07:24:09\n",
      "2024-09-19\n",
      "2024-09-19\n"
     ]
    }
   ],
   "source": [
    "import numpy as np\n",
    "result=np.datetime64('now')\n",
    "today=np.datetime64(\"today\")\n",
    "print(\"pritn current data aand time \")\n",
    "print(result)\n",
    "print(today)\n",
    "date_tod=np.datetime64(result,'D')\n",
    "print(date_tod)"
   ]
  },
  {
   "cell_type": "code",
   "execution_count": 11,
   "id": "f203a11e-fc4c-4f10-a2a8-47f8def22ace",
   "metadata": {},
   "outputs": [
    {
     "name": "stdout",
     "output_type": "stream",
     "text": [
      "2023\n",
      "2023-04\n",
      "2023-04-29\n",
      "2023-04-29T10\n",
      "2023-04-29T10:30\n",
      "2023-04-29T10:30:15\n"
     ]
    }
   ],
   "source": [
    "import numpy as np\n",
    "year=np.datetime64('2023','Y')\n",
    "month=np.datetime64('2023-04','M')\n",
    "day=np.datetime64('2023-04-29','D')\n",
    "hours=np.datetime64('2023-04-29T10','h')\n",
    "min=np.datetime64('2023-04-29T10:30','m')\n",
    "sec=np.datetime64('2023-04-29T10:30:15','s')\n",
    "print(year)\n",
    "print(month)\n",
    "print(day)\n",
    "print(hours)\n",
    "print(min)\n",
    "print(sec)"
   ]
  },
  {
   "cell_type": "code",
   "execution_count": 13,
   "id": "0b04e6b8-71f0-4848-a71f-40358ed0e120",
   "metadata": {},
   "outputs": [
    {
     "name": "stdout",
     "output_type": "stream",
     "text": [
      "['2023-04' '2023-05' '2023-06' '2023-07' '2023-08' '2023-09' '2023-10'\n",
      " '2023-11' '2023-12' '2024-01' '2024-02' '2024-03']\n"
     ]
    }
   ],
   "source": [
    "import numpy as np\n",
    "dates=np.arange('2023-04-29','2024-04-29',dtype='datetime64[M]')\n",
    "print(dates)"
   ]
  },
  {
   "cell_type": "code",
   "execution_count": 15,
   "id": "3105cdc7-303c-4508-a423-abf1da483cea",
   "metadata": {},
   "outputs": [
    {
     "name": "stdout",
     "output_type": "stream",
     "text": [
      "2024-09-19\n",
      "3 days\n"
     ]
    }
   ],
   "source": [
    "import numpy as np\n",
    "today=np.datetime64(\"today\")\n",
    "tommarow=np.timedelta64(3,'D')\n",
    "print(today)\n",
    "print(tommarow)"
   ]
  },
  {
   "cell_type": "code",
   "execution_count": 17,
   "id": "c72e58e1-ca5f-4636-8250-0d7eb5c0f81c",
   "metadata": {},
   "outputs": [
    {
     "name": "stdout",
     "output_type": "stream",
     "text": [
      "2024-09-20T00\n"
     ]
    }
   ],
   "source": [
    "import numpy as np\n",
    "today=np.datetime64(\"today\")\n",
    "tommarow=today + np.timedelta64(24,'h')\n",
    "print(tommarow)\n"
   ]
  },
  {
   "cell_type": "code",
   "execution_count": 29,
   "id": "74346fe8-fd11-40de-a0de-7d020ecbb85e",
   "metadata": {},
   "outputs": [
    {
     "name": "stdout",
     "output_type": "stream",
     "text": [
      "Number of business days between 2023-04-01 and 2023-04-30 is 23\n"
     ]
    }
   ],
   "source": [
    "import numpy as np\n",
    "\n",
    "# Define the dates\n",
    "date1 = np.datetime64('2023-04-01')\n",
    "date2 = np.datetime64('2023-04-30')\n",
    "\n",
    "# Calculate business days with a custom weekmask (Mon-Fri) and holidays\n",
    "new_bis_day = np.busday_count(date1, date2, weekmask='1111101', holidays=['2023-04-01', '2023-04-20'])\n",
    "\n",
    "# Print the result\n",
    "print('Number of business days between', date1, 'and', date2, 'is', new_bis_day)\n"
   ]
  },
  {
   "cell_type": "code",
   "execution_count": null,
   "id": "8a9fb6d3-30f9-48f8-95d5-923a33587992",
   "metadata": {},
   "outputs": [],
   "source": []
  }
 ],
 "metadata": {
  "kernelspec": {
   "display_name": "Python 3 (ipykernel)",
   "language": "python",
   "name": "python3"
  },
  "language_info": {
   "codemirror_mode": {
    "name": "ipython",
    "version": 3
   },
   "file_extension": ".py",
   "mimetype": "text/x-python",
   "name": "python",
   "nbconvert_exporter": "python",
   "pygments_lexer": "ipython3",
   "version": "3.12.4"
  }
 },
 "nbformat": 4,
 "nbformat_minor": 5
}
